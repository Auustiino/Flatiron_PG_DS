{
 "cells": [
  {
   "cell_type": "markdown",
   "id": "79adf0f5",
   "metadata": {
    "slideshow": {
     "slide_type": "slide"
    }
   },
   "source": [
    "<div style=\"color:white;\n",
    "           display:fill;\n",
    "           border-radius:5px;\n",
    "           background-color:#5642C5;\n",
    "           font-size:200%;\n",
    "           font-\\amily:Arial;letter-spacing:0.5px\">\n",
    "\n",
    "<p width = 20%, style=\"padding: 10px;\n",
    "              color:white;\">\n",
    "Data Leakage\n",
    "              \n",
    "</p>\n",
    "</div>\n",
    "\n",
    "Data Science Cohort Live NYC Feb 2022\n",
    "<p>Phase 3: Topic 24</p>\n",
    "<br>\n",
    "<br>\n",
    "\n",
    "<div align = \"right\">\n",
    "<img src=\"Images/flatiron-school-logo.png\" align = \"right\" width=\"200\"/>\n",
    "</div>"
   ]
  },
  {
   "cell_type": "markdown",
   "id": "a0406274",
   "metadata": {
    "cell_style": "center",
    "slideshow": {
     "slide_type": "slide"
    }
   },
   "source": [
    "#### Data Leakage\n",
    "- When information not generally available/used at prediction time contaminates the modeling training process."
   ]
  },
  {
   "cell_type": "markdown",
   "id": "2745c741",
   "metadata": {
    "cell_style": "split",
    "slideshow": {
     "slide_type": "slide"
    }
   },
   "source": [
    "<center><img src = \"Images/despair.jpg\" width = 350 /></center>\n",
    "<center> The despair of realizing you have a data leak.</center>"
   ]
  },
  {
   "cell_type": "markdown",
   "id": "ef438d5b",
   "metadata": {
    "cell_style": "split",
    "slideshow": {
     "slide_type": "fragment"
    }
   },
   "source": [
    "Leads to overconfident estimates of model performance during the validation and testing phases."
   ]
  },
  {
   "cell_type": "markdown",
   "id": "fa9a0528",
   "metadata": {
    "cell_style": "split",
    "slideshow": {
     "slide_type": "fragment"
    }
   },
   "source": [
    "- Bad performance after model deployment in production.\n"
   ]
  },
  {
   "cell_type": "markdown",
   "id": "a63a1253",
   "metadata": {
    "cell_style": "split",
    "slideshow": {
     "slide_type": "subslide"
    }
   },
   "source": [
    "<center><img src = \"Images/despair.jpg\" width = 350 /></center>\n",
    "<center> My overlords are upset.</center>"
   ]
  },
  {
   "cell_type": "markdown",
   "id": "345361c3",
   "metadata": {
    "cell_style": "split",
    "slideshow": {
     "slide_type": "subslide"
    }
   },
   "source": [
    "<center><img src = \"Images/despair.jpg\" width = 350 /></center>\n",
    "<center> I have spent all night trying to find the data leak.</center>"
   ]
  },
  {
   "cell_type": "markdown",
   "id": "05b41a8f",
   "metadata": {
    "cell_style": "split",
    "slideshow": {
     "slide_type": "subslide"
    }
   },
   "source": [
    "<center><img src = \"Images/despair.jpg\" width = 350 /></center>\n",
    "<center> What is the nature of my leak?</center>"
   ]
  },
  {
   "cell_type": "markdown",
   "id": "a8de0470",
   "metadata": {},
   "source": [
    "<center><img src = \"Images/despair.jpg\" width = 350 /></center>\n",
    "<center> Where is it??</center>"
   ]
  },
  {
   "cell_type": "markdown",
   "id": "91f36cad",
   "metadata": {},
   "source": [
    "Diagnosing a data leak can be subtle business:\n",
    "- Understanding different types of leak\n",
    "- Where in the process they can be accidentally introduced."
   ]
  },
  {
   "cell_type": "markdown",
   "id": "1a46010c",
   "metadata": {},
   "source": [
    "#### Training leakage"
   ]
  },
  {
   "cell_type": "markdown",
   "id": "5016522a",
   "metadata": {},
   "source": [
    "Fitting and applying transformations **before** train-test(hold out) splitting."
   ]
  },
  {
   "cell_type": "markdown",
   "id": "a8e727b3",
   "metadata": {},
   "source": [
    "<img src = \"Images/training_testing.png\" width = 500 />"
   ]
  },
  {
   "cell_type": "markdown",
   "id": "d0a77892",
   "metadata": {},
   "source": [
    "- Why is this bad?"
   ]
  },
  {
   "cell_type": "markdown",
   "id": "0f4dbf91",
   "metadata": {},
   "source": [
    "Applying transformation to training set:\n",
    "- contains information from test set (contained in fitted attributes of Transformer)"
   ]
  },
  {
   "cell_type": "markdown",
   "id": "02ba2d29",
   "metadata": {
    "cell_style": "split"
   },
   "source": [
    "- Contaminated training set.\n",
    "- Model has inadvertently trained on information you are trying to predict."
   ]
  },
  {
   "cell_type": "code",
   "execution_count": null,
   "id": "5404f7cb",
   "metadata": {
    "cell_style": "split"
   },
   "outputs": [],
   "source": []
  },
  {
   "cell_type": "code",
   "execution_count": 1,
   "id": "cbca8ef1",
   "metadata": {
    "slideshow": {
     "slide_type": "slide"
    }
   },
   "outputs": [],
   "source": [
    "import seaborn as sns\n",
    "import pandas as pd\n",
    "\n",
    "from sklearn.linear_model import LinearRegression\n",
    "from sklearn.linear_model import Ridge\n",
    "from sklearn.metrics import mean_squared_error\n",
    "\n",
    "# train test split\n",
    "from sklearn.model_selection import train_test_split\n",
    "\n",
    "# preprocessing\n",
    "from sklearn.preprocessing import OneHotEncoder\n",
    "from sklearn.preprocessing import StandardScaler\n",
    "\n",
    "# model validation: testing model variance with cross validation\n",
    "\n",
    "from sklearn.model_selection import KFold, cross_val_score, cross_validate, ShuffleSplit"
   ]
  },
  {
   "cell_type": "code",
   "execution_count": 2,
   "id": "e37b59f1",
   "metadata": {},
   "outputs": [],
   "source": [
    "birds = sns.load_dataset('penguins')\n",
    "birds = birds.dropna()\n",
    "\n",
    "X = birds.drop('body_mass_g', axis=1)\n",
    "y = birds['body_mass_g']"
   ]
  },
  {
   "cell_type": "markdown",
   "id": "f78dcbef",
   "metadata": {},
   "source": [
    "I want to one-hot encode relevant features in the feature matrix."
   ]
  },
  {
   "cell_type": "code",
   "execution_count": 3,
   "id": "38e79358",
   "metadata": {},
   "outputs": [
    {
     "data": {
      "text/html": [
       "<div>\n",
       "<style scoped>\n",
       "    .dataframe tbody tr th:only-of-type {\n",
       "        vertical-align: middle;\n",
       "    }\n",
       "\n",
       "    .dataframe tbody tr th {\n",
       "        vertical-align: top;\n",
       "    }\n",
       "\n",
       "    .dataframe thead th {\n",
       "        text-align: right;\n",
       "    }\n",
       "</style>\n",
       "<table border=\"1\" class=\"dataframe\">\n",
       "  <thead>\n",
       "    <tr style=\"text-align: right;\">\n",
       "      <th></th>\n",
       "      <th>x0_Chinstrap</th>\n",
       "      <th>x0_Gentoo</th>\n",
       "      <th>x1_Dream</th>\n",
       "      <th>x1_Torgersen</th>\n",
       "      <th>x2_Male</th>\n",
       "    </tr>\n",
       "  </thead>\n",
       "  <tbody>\n",
       "    <tr>\n",
       "      <th>0</th>\n",
       "      <td>0.0</td>\n",
       "      <td>0.0</td>\n",
       "      <td>0.0</td>\n",
       "      <td>1.0</td>\n",
       "      <td>1.0</td>\n",
       "    </tr>\n",
       "    <tr>\n",
       "      <th>1</th>\n",
       "      <td>0.0</td>\n",
       "      <td>0.0</td>\n",
       "      <td>0.0</td>\n",
       "      <td>1.0</td>\n",
       "      <td>0.0</td>\n",
       "    </tr>\n",
       "    <tr>\n",
       "      <th>2</th>\n",
       "      <td>0.0</td>\n",
       "      <td>0.0</td>\n",
       "      <td>0.0</td>\n",
       "      <td>1.0</td>\n",
       "      <td>0.0</td>\n",
       "    </tr>\n",
       "    <tr>\n",
       "      <th>4</th>\n",
       "      <td>0.0</td>\n",
       "      <td>0.0</td>\n",
       "      <td>0.0</td>\n",
       "      <td>1.0</td>\n",
       "      <td>0.0</td>\n",
       "    </tr>\n",
       "    <tr>\n",
       "      <th>5</th>\n",
       "      <td>0.0</td>\n",
       "      <td>0.0</td>\n",
       "      <td>0.0</td>\n",
       "      <td>1.0</td>\n",
       "      <td>1.0</td>\n",
       "    </tr>\n",
       "  </tbody>\n",
       "</table>\n",
       "</div>"
      ],
      "text/plain": [
       "   x0_Chinstrap  x0_Gentoo  x1_Dream  x1_Torgersen  x2_Male\n",
       "0           0.0        0.0       0.0           1.0      1.0\n",
       "1           0.0        0.0       0.0           1.0      0.0\n",
       "2           0.0        0.0       0.0           1.0      0.0\n",
       "4           0.0        0.0       0.0           1.0      0.0\n",
       "5           0.0        0.0       0.0           1.0      1.0"
      ]
     },
     "execution_count": 3,
     "metadata": {},
     "output_type": "execute_result"
    }
   ],
   "source": [
    "ohe = OneHotEncoder(drop = 'first')\n",
    "\n",
    "ohe = OneHotEncoder(drop='first')\n",
    "dummies = ohe.fit_transform(X[['species', 'island', 'sex']])\n",
    "\n",
    "# Getting a DF\n",
    "X_onehot = pd.DataFrame(dummies.todense(), columns=ohe.get_feature_names(), index=X.index)\n",
    "\n",
    "X_onehot.head()"
   ]
  },
  {
   "cell_type": "markdown",
   "id": "b79cda9a",
   "metadata": {},
   "source": [
    "Now, let's concatenate:"
   ]
  },
  {
   "cell_type": "code",
   "execution_count": 4,
   "id": "4d35d9a1",
   "metadata": {},
   "outputs": [
    {
     "data": {
      "text/html": [
       "<div>\n",
       "<style scoped>\n",
       "    .dataframe tbody tr th:only-of-type {\n",
       "        vertical-align: middle;\n",
       "    }\n",
       "\n",
       "    .dataframe tbody tr th {\n",
       "        vertical-align: top;\n",
       "    }\n",
       "\n",
       "    .dataframe thead th {\n",
       "        text-align: right;\n",
       "    }\n",
       "</style>\n",
       "<table border=\"1\" class=\"dataframe\">\n",
       "  <thead>\n",
       "    <tr style=\"text-align: right;\">\n",
       "      <th></th>\n",
       "      <th>bill_length_mm</th>\n",
       "      <th>bill_depth_mm</th>\n",
       "      <th>flipper_length_mm</th>\n",
       "      <th>x0_Chinstrap</th>\n",
       "      <th>x0_Gentoo</th>\n",
       "      <th>x1_Dream</th>\n",
       "      <th>x1_Torgersen</th>\n",
       "      <th>x2_Male</th>\n",
       "    </tr>\n",
       "  </thead>\n",
       "  <tbody>\n",
       "    <tr>\n",
       "      <th>0</th>\n",
       "      <td>39.1</td>\n",
       "      <td>18.7</td>\n",
       "      <td>181.0</td>\n",
       "      <td>0.0</td>\n",
       "      <td>0.0</td>\n",
       "      <td>0.0</td>\n",
       "      <td>1.0</td>\n",
       "      <td>1.0</td>\n",
       "    </tr>\n",
       "    <tr>\n",
       "      <th>1</th>\n",
       "      <td>39.5</td>\n",
       "      <td>17.4</td>\n",
       "      <td>186.0</td>\n",
       "      <td>0.0</td>\n",
       "      <td>0.0</td>\n",
       "      <td>0.0</td>\n",
       "      <td>1.0</td>\n",
       "      <td>0.0</td>\n",
       "    </tr>\n",
       "    <tr>\n",
       "      <th>2</th>\n",
       "      <td>40.3</td>\n",
       "      <td>18.0</td>\n",
       "      <td>195.0</td>\n",
       "      <td>0.0</td>\n",
       "      <td>0.0</td>\n",
       "      <td>0.0</td>\n",
       "      <td>1.0</td>\n",
       "      <td>0.0</td>\n",
       "    </tr>\n",
       "    <tr>\n",
       "      <th>4</th>\n",
       "      <td>36.7</td>\n",
       "      <td>19.3</td>\n",
       "      <td>193.0</td>\n",
       "      <td>0.0</td>\n",
       "      <td>0.0</td>\n",
       "      <td>0.0</td>\n",
       "      <td>1.0</td>\n",
       "      <td>0.0</td>\n",
       "    </tr>\n",
       "    <tr>\n",
       "      <th>5</th>\n",
       "      <td>39.3</td>\n",
       "      <td>20.6</td>\n",
       "      <td>190.0</td>\n",
       "      <td>0.0</td>\n",
       "      <td>0.0</td>\n",
       "      <td>0.0</td>\n",
       "      <td>1.0</td>\n",
       "      <td>1.0</td>\n",
       "    </tr>\n",
       "  </tbody>\n",
       "</table>\n",
       "</div>"
      ],
      "text/plain": [
       "   bill_length_mm  bill_depth_mm  flipper_length_mm  x0_Chinstrap  x0_Gentoo  \\\n",
       "0            39.1           18.7              181.0           0.0        0.0   \n",
       "1            39.5           17.4              186.0           0.0        0.0   \n",
       "2            40.3           18.0              195.0           0.0        0.0   \n",
       "4            36.7           19.3              193.0           0.0        0.0   \n",
       "5            39.3           20.6              190.0           0.0        0.0   \n",
       "\n",
       "   x1_Dream  x1_Torgersen  x2_Male  \n",
       "0       0.0           1.0      1.0  \n",
       "1       0.0           1.0      0.0  \n",
       "2       0.0           1.0      0.0  \n",
       "4       0.0           1.0      0.0  \n",
       "5       0.0           1.0      1.0  "
      ]
     },
     "execution_count": 4,
     "metadata": {},
     "output_type": "execute_result"
    }
   ],
   "source": [
    "X_numeric = X[['bill_length_mm', 'bill_depth_mm', 'flipper_length_mm']]\n",
    "X = pd.concat([X_numeric, X_onehot], axis=1)\n",
    "X.head()"
   ]
  },
  {
   "cell_type": "markdown",
   "id": "da9fc1a1",
   "metadata": {},
   "source": [
    "Let's standardize:"
   ]
  },
  {
   "cell_type": "code",
   "execution_count": 5,
   "id": "ec088d17",
   "metadata": {},
   "outputs": [],
   "source": [
    "scaler = StandardScaler()\n",
    "X_standard = scaler.fit_transform(X)"
   ]
  },
  {
   "cell_type": "markdown",
   "id": "1c9f0e69",
   "metadata": {},
   "source": [
    "Now let's train test split, fit a linear regression model and evaluate performance:"
   ]
  },
  {
   "cell_type": "code",
   "execution_count": 6,
   "id": "cad7e447",
   "metadata": {},
   "outputs": [
    {
     "data": {
      "text/plain": [
       "LinearRegression()"
      ]
     },
     "execution_count": 6,
     "metadata": {},
     "output_type": "execute_result"
    }
   ],
   "source": [
    "X_train, X_test, y_train, y_test = train_test_split(X, y, test_size = 0.3, random_state = 42)\n",
    "\n",
    "lr = LinearRegression()\n",
    "lr.fit(X_train, y_train)"
   ]
  },
  {
   "cell_type": "code",
   "execution_count": null,
   "id": "8e1e40dd",
   "metadata": {},
   "outputs": [],
   "source": [
    "import numpy as np\n",
    "y_pred = lr.predict(X_test)\n",
    "np.sqrt(y_pred, y_test)"
   ]
  },
  {
   "cell_type": "code",
   "execution_count": null,
   "id": "7cf29184",
   "metadata": {},
   "outputs": [],
   "source": [
    "lr.score(X_test, y_test)"
   ]
  },
  {
   "cell_type": "code",
   "execution_count": null,
   "id": "1e1ee55d",
   "metadata": {},
   "outputs": [],
   "source": []
  },
  {
   "cell_type": "markdown",
   "id": "0928e1a6",
   "metadata": {},
   "source": [
    "#### This can be a truly costly mistake:\n",
    "- You'll only figure it out after you've deployed\n",
    "- Made suboptimal predictions:\n",
    "    - incorrectly recommending inventory changes to increase sales\n",
    "    - etc.\n"
   ]
  },
  {
   "cell_type": "markdown",
   "id": "48b27d49",
   "metadata": {
    "slideshow": {
     "slide_type": "slide"
    }
   },
   "source": [
    "#### Leakage in cross validation"
   ]
  },
  {
   "cell_type": "markdown",
   "id": "11ca01db",
   "metadata": {
    "slideshow": {
     "slide_type": "subslide"
    }
   },
   "source": [
    "Less bad but still not good..."
   ]
  },
  {
   "cell_type": "markdown",
   "id": "80718d86",
   "metadata": {
    "cell_style": "split",
    "slideshow": {
     "slide_type": "subslide"
    }
   },
   "source": [
    "<img src = \"Images/crossval.png\" width = 500/>"
   ]
  },
  {
   "cell_type": "markdown",
   "id": "dd67ad95",
   "metadata": {
    "cell_style": "split",
    "slideshow": {
     "slide_type": "fragment"
    }
   },
   "source": [
    "When you pollute your training fold with your validation fold:\n",
    "\n",
    "- Each cross-validation trial has data leakage.\n"
   ]
  },
  {
   "cell_type": "markdown",
   "id": "ab8bba72",
   "metadata": {
    "cell_style": "split",
    "slideshow": {
     "slide_type": "fragment"
    }
   },
   "source": [
    "Validation performance measurements not correct:\n",
    "- Incorrect estimates of average model performance\n",
    "- Incorrect estimates of model variance."
   ]
  },
  {
   "cell_type": "markdown",
   "id": "5ddd7cfa",
   "metadata": {},
   "source": [
    "Messes up your hyperparameter tuning:\n",
    "- \"Best model\": hyperparameter settings with best average model performance\n",
    "- But it doesn't work well on my test/hold-out set..."
   ]
  },
  {
   "cell_type": "markdown",
   "id": "79ef8a94",
   "metadata": {},
   "source": [
    "Training transformation leakage are easier to introduce than you think..."
   ]
  },
  {
   "cell_type": "markdown",
   "id": "60a6252d",
   "metadata": {},
   "source": [
    "#### Then check for data leakage in your cross-validation"
   ]
  },
  {
   "cell_type": "markdown",
   "id": "183a6e83",
   "metadata": {
    "slideshow": {
     "slide_type": "slide"
    }
   },
   "source": [
    "#### Other types of data leakage"
   ]
  },
  {
   "cell_type": "markdown",
   "id": "d802a2a9",
   "metadata": {},
   "source": [
    "#### Feature leakage"
   ]
  },
  {
   "cell_type": "markdown",
   "id": "066e665b",
   "metadata": {},
   "source": [
    "Dependent on how the data/features were collected."
   ]
  },
  {
   "cell_type": "markdown",
   "id": "141d54c5",
   "metadata": {
    "cell_style": "center",
    "slideshow": {
     "slide_type": "slide"
    }
   },
   "source": [
    "<img src = \"Images\\data_leakage_predcontam.png\" width = 800/>"
   ]
  },
  {
   "cell_type": "markdown",
   "id": "2214fef1",
   "metadata": {
    "cell_style": "center",
    "slideshow": {
     "slide_type": "fragment"
    }
   },
   "source": [
    "- Predicting whether we should approve a loan or not.\n",
    "- Have database of current lendees."
   ]
  },
  {
   "cell_type": "markdown",
   "id": "a4b43b48",
   "metadata": {
    "cell_style": "split",
    "slideshow": {
     "slide_type": "slide"
    }
   },
   "source": [
    "- Features include:\n",
    "    - Salary information at time of loan approval\n",
    "    - Pre-loan bankruptcy history\n",
    "    - FICO score\n",
    "    - Listed occupation\n",
    "    - Monthly interest payments.\n",
    "    - Bank balance across accounts.\n",
    "    "
   ]
  },
  {
   "cell_type": "markdown",
   "id": "b72129b8",
   "metadata": {
    "cell_style": "split",
    "slideshow": {
     "slide_type": "fragment"
    }
   },
   "source": [
    "**What's the problem here?**"
   ]
  },
  {
   "cell_type": "markdown",
   "id": "6a9e60ec",
   "metadata": {},
   "source": [
    "Possibly conflating information from *after* prediction with properties before prediction.\n",
    "- Features from **after** prediction potentially affected by target.\n",
    "- Our target is now leaking into the way we trained our model.\n",
    "- Features *before* and *after* approval may not be drawn from same distribution."
   ]
  },
  {
   "cell_type": "markdown",
   "id": "2bdf4233",
   "metadata": {},
   "source": [
    "**These sources of feature leakage can be very subtle**\n",
    "- Understanding of the data collection process and data definitions is critical here."
   ]
  },
  {
   "cell_type": "markdown",
   "id": "3bb232c7",
   "metadata": {},
   "source": [
    "**Case Study**"
   ]
  },
  {
   "cell_type": "markdown",
   "id": "95842b36",
   "metadata": {
    "cell_style": "split"
   },
   "source": [
    "- Size of the house (in square meters)\n",
    "- Average sales price of homes in the same neighborhood\n",
    "- Latitude and longitude of the house\n",
    "- Whether the house has a basement"
   ]
  },
  {
   "cell_type": "markdown",
   "id": "a8bb4a31",
   "metadata": {
    "cell_style": "split"
   },
   "source": [
    "Is there a source of potential data leakage? Explain."
   ]
  },
  {
   "cell_type": "markdown",
   "id": "225f603a",
   "metadata": {},
   "source": [
    "**Another Case Study**"
   ]
  },
  {
   "cell_type": "code",
   "execution_count": null,
   "id": "a62cd2e6",
   "metadata": {},
   "outputs": [],
   "source": []
  }
 ],
 "metadata": {
  "celltoolbar": "Slideshow",
  "kernelspec": {
   "display_name": "Python 3 (ipykernel)",
   "language": "python",
   "name": "python3"
  },
  "language_info": {
   "codemirror_mode": {
    "name": "ipython",
    "version": 3
   },
   "file_extension": ".py",
   "mimetype": "text/x-python",
   "name": "python",
   "nbconvert_exporter": "python",
   "pygments_lexer": "ipython3",
   "version": "3.9.7"
  }
 },
 "nbformat": 4,
 "nbformat_minor": 5
}
