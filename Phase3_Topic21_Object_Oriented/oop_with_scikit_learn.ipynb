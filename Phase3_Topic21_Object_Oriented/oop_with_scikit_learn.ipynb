{
 "cells": [
  {
   "cell_type": "markdown",
   "metadata": {
    "slideshow": {
     "slide_type": "slide"
    }
   },
   "source": [
    "<div style=\"color:white;\n",
    "           display:fill;\n",
    "           border-radius:5px;\n",
    "           background-color:#5642C5;\n",
    "           font-size:200%;\n",
    "           font-\\amily:Arial;letter-spacing:0.5px\">\n",
    "\n",
    "<p width = 20%, style=\"padding: 10px;\n",
    "              color:white;\">\n",
    "Class inheritance / custom classes in scikit-learn \n",
    "              \n",
    "</p>\n",
    "</div>\n",
    "\n",
    "Data Science Cohort Live NYC Feb 2022\n",
    "<p>Phase 3: Topic 21</p>\n",
    "<br>\n",
    "<br>\n",
    "\n",
    "<div align = \"right\">\n",
    "<img src=\"Images/flatiron-school-logo.png\" align = \"right\" width=\"200\"/>\n",
    "</div>"
   ]
  },
  {
   "cell_type": "markdown",
   "metadata": {},
   "source": [
    "####  Hierarchical class structures and inheritance\n",
    "<img src = \"Images/class-inheritance.png\" />"
   ]
  },
  {
   "cell_type": "markdown",
   "metadata": {
    "cell_style": "split"
   },
   "source": [
    "Car and motorcycle are examples of vehicle:\n",
    "- Vehicle: **parent class**\n",
    "- Car/Motorcycle: **children**"
   ]
  },
  {
   "cell_type": "markdown",
   "metadata": {
    "cell_style": "split"
   },
   "source": [
    "Children class:\n",
    "- share methods/attributes from parent\n",
    "- will also have specific additional methods/attributes"
   ]
  },
  {
   "cell_type": "markdown",
   "metadata": {},
   "source": [
    "#### Reason to do this\n",
    "- Tremendous reduction in code\n",
    "- Specific custom class: can inherit routines/variabes/functionality from parents.\n",
    "- Custom class: adapt to specific use case and plug into general framework."
   ]
  },
  {
   "cell_type": "markdown",
   "metadata": {
    "cell_style": "split"
   },
   "source": [
    "#### Child class can have multiple parents\n",
    "- Inherits methods/routines from multiple parents"
   ]
  },
  {
   "cell_type": "markdown",
   "metadata": {
    "cell_style": "split"
   },
   "source": [
    "<img src = \"Images/multipleinh.png\" width = 600 />"
   ]
  },
  {
   "cell_type": "markdown",
   "metadata": {},
   "source": [
    "Let's see some of this in action in Python:\n",
    "- Define parent class: "
   ]
  },
  {
   "cell_type": "code",
   "execution_count": 47,
   "metadata": {
    "cell_style": "split",
    "slideshow": {
     "slide_type": "slide"
    }
   },
   "outputs": [],
   "source": [
    "class Vehicle:\n",
    "    \n",
    "    def __init__(self, color = 'Gray'):\n",
    "        self.started = False\n",
    "        self.color = color\n",
    "        self.speed = 0\n",
    "        \n",
    "    def start(self):\n",
    "        self.started = True\n",
    "        \n",
    "    def turn_off(self):\n",
    "        if self.speed == 0:\n",
    "            self.started = False\n",
    "        else:\n",
    "            print('User is idiot. Request denied.')\n",
    "    \n",
    "    def increase_speed(self, delta):\n",
    "        if self.started == True:\n",
    "            self.speed += delta\n",
    "        else:\n",
    "            print('Vehicle is off...')\n",
    "    \n",
    "    def slow_down(self, delta):\n",
    "        calc = self.speed - delta\n",
    "        if (self.started == True) & (calc >= 0):\n",
    "            self.speed = calc\n",
    "        else:\n",
    "            pass\n",
    "                \n",
    "    def stop(self):\n",
    "        self.speed = 0"
   ]
  },
  {
   "cell_type": "code",
   "execution_count": 48,
   "metadata": {
    "cell_style": "split"
   },
   "outputs": [],
   "source": [
    "veh_inst = Vehicle()"
   ]
  },
  {
   "cell_type": "code",
   "execution_count": 49,
   "metadata": {
    "cell_style": "split"
   },
   "outputs": [],
   "source": [
    "veh_inst.start() "
   ]
  },
  {
   "cell_type": "code",
   "execution_count": 50,
   "metadata": {
    "cell_style": "split"
   },
   "outputs": [
    {
     "data": {
      "text/plain": [
       "True"
      ]
     },
     "execution_count": 50,
     "metadata": {},
     "output_type": "execute_result"
    }
   ],
   "source": [
    "veh_inst.started"
   ]
  },
  {
   "cell_type": "code",
   "execution_count": 51,
   "metadata": {
    "cell_style": "split"
   },
   "outputs": [
    {
     "data": {
      "text/plain": [
       "0"
      ]
     },
     "execution_count": 51,
     "metadata": {},
     "output_type": "execute_result"
    }
   ],
   "source": [
    "veh_inst.speed"
   ]
  },
  {
   "cell_type": "code",
   "execution_count": 52,
   "metadata": {
    "cell_style": "split"
   },
   "outputs": [],
   "source": [
    "veh_inst.increase_speed(10)"
   ]
  },
  {
   "cell_type": "code",
   "execution_count": 53,
   "metadata": {
    "cell_style": "split"
   },
   "outputs": [
    {
     "data": {
      "text/plain": [
       "10"
      ]
     },
     "execution_count": 53,
     "metadata": {},
     "output_type": "execute_result"
    }
   ],
   "source": [
    "veh_inst.speed"
   ]
  },
  {
   "cell_type": "code",
   "execution_count": 54,
   "metadata": {
    "cell_style": "split"
   },
   "outputs": [
    {
     "data": {
      "text/plain": [
       "'Gray'"
      ]
     },
     "execution_count": 54,
     "metadata": {},
     "output_type": "execute_result"
    }
   ],
   "source": [
    "veh_inst.color"
   ]
  },
  {
   "cell_type": "markdown",
   "metadata": {
    "cell_style": "center"
   },
   "source": [
    "Parent has general functions that we want to reuse for specific types of vehicles:\n",
    "- Want to define child class specifying a parent.\n",
    "- class definition takes parent classes as arguments.\n",
    "- super().__init__() in __init__ method\n"
   ]
  },
  {
   "cell_type": "markdown",
   "metadata": {
    "cell_style": "center"
   },
   "source": [
    "super().__init__(parent_arguments)\n",
    "\n",
    "- Must take in arguments from parent constructor (except self)\n",
    "\n",
    "In child class:\n",
    "\n",
    "- constructor must take parameters of parent constructor as arguments"
   ]
  },
  {
   "cell_type": "markdown",
   "metadata": {
    "slideshow": {
     "slide_type": "slide"
    }
   },
   "source": [
    "Let's see what I mean by all that:"
   ]
  },
  {
   "cell_type": "code",
   "execution_count": 62,
   "metadata": {
    "cell_style": "split"
   },
   "outputs": [],
   "source": [
    "class Car(Vehicle):\n",
    "    \n",
    "    def __init__(self, color):\n",
    "        self.trunk_open = False\n",
    "        super().__init__(color)\n",
    "    def open_trunk(self):\n",
    "        if self.trunk_open == False:\n",
    "            self.trunk_open = True\n",
    "        else:\n",
    "            print('Trunk already open')\n",
    "    def close_trunk(self):\n",
    "        if self.trunk_open == True:\n",
    "            self.trunk_open = False\n",
    "        else:\n",
    "            print('Trunk is already closed.')"
   ]
  },
  {
   "cell_type": "code",
   "execution_count": 63,
   "metadata": {
    "cell_style": "split"
   },
   "outputs": [],
   "source": [
    "my_moms_car = Car('Blue')"
   ]
  },
  {
   "cell_type": "code",
   "execution_count": 64,
   "metadata": {
    "cell_style": "split"
   },
   "outputs": [
    {
     "data": {
      "text/plain": [
       "'Blue'"
      ]
     },
     "execution_count": 64,
     "metadata": {},
     "output_type": "execute_result"
    }
   ],
   "source": [
    "my_moms_car.color"
   ]
  },
  {
   "cell_type": "code",
   "execution_count": 65,
   "metadata": {
    "cell_style": "split"
   },
   "outputs": [],
   "source": [
    "my_moms_car.open_trunk()"
   ]
  },
  {
   "cell_type": "code",
   "execution_count": 68,
   "metadata": {
    "cell_style": "split"
   },
   "outputs": [
    {
     "data": {
      "text/plain": [
       "True"
      ]
     },
     "execution_count": 68,
     "metadata": {},
     "output_type": "execute_result"
    }
   ],
   "source": [
    "my_moms_car.trunk_open"
   ]
  },
  {
   "cell_type": "code",
   "execution_count": 72,
   "metadata": {},
   "outputs": [
    {
     "data": {
      "text/plain": [
       "True"
      ]
     },
     "execution_count": 72,
     "metadata": {},
     "output_type": "execute_result"
    }
   ],
   "source": [
    "my_moms_car.start()\n",
    "my_moms_car.started"
   ]
  },
  {
   "cell_type": "code",
   "execution_count": null,
   "metadata": {
    "cell_style": "split",
    "slideshow": {
     "slide_type": "slide"
    }
   },
   "outputs": [],
   "source": [
    "class Car(Vehicle):\n",
    "    \n",
    "    def __init__(self, color):\n",
    "        self.trunk_open = False\n",
    "        super().__init__(color)\n",
    "    def open_trunk(self):\n",
    "        if self.trunk_open == False:\n",
    "            self.trunk_open = True\n",
    "        else:\n",
    "            print('Trunk already open')\n",
    "    def close_trunk(self):\n",
    "        if self.trunk_open == True:\n",
    "            self.trunk_open = False\n",
    "        else:\n",
    "            print('Trunk is already closed.')"
   ]
  },
  {
   "cell_type": "markdown",
   "metadata": {
    "cell_style": "split",
    "slideshow": {
     "slide_type": "fragment"
    }
   },
   "source": [
    "Car is child of Vehicle:\n",
    "- clearly inherits methods/attributes from Vehicle\n",
    "- Also has own subroutines/attributes (trunk_open,etc.)"
   ]
  },
  {
   "cell_type": "markdown",
   "metadata": {
    "cell_style": "split",
    "slideshow": {
     "slide_type": "fragment"
    }
   },
   "source": [
    "- color is argument of Vehicle constructor\n",
    "- specifying in __init__ method of child passes it to parent:\n",
    "    - through super().__init__(color)"
   ]
  },
  {
   "cell_type": "markdown",
   "metadata": {},
   "source": [
    "#### Multiple Inheritance"
   ]
  },
  {
   "cell_type": "code",
   "execution_count": 112,
   "metadata": {},
   "outputs": [],
   "source": [
    "class Property:\n",
    "    \n",
    "    def __init__(self, owner_name = None, years_owned = None, assessed_value = None):\n",
    "        \n",
    "        self.owner_name = owner_name\n",
    "        self.years_owned = years_owned \n",
    "        self.assessed_value = assessed_value\n",
    "        \n",
    "    def change_owner(self, name):\n",
    "        self.owner_name = name\n",
    "        self.years_owned = 0\n",
    "        \n",
    "    def revalue_asset(self, new_value):\n",
    "        self.assessed_value = new_value"
   ]
  },
  {
   "cell_type": "code",
   "execution_count": 113,
   "metadata": {},
   "outputs": [],
   "source": [
    "class Car(Property, Vehicle):\n",
    "    \n",
    "    def __init__(self, color, owner_name = None, years_owned = None, assessed_value = None):\n",
    "        Property.__init__(self, owner_name, years_owned, assessed_value)\n",
    "        Vehicle.__init__(self, color)\n",
    "        \n",
    "        self.trunk_open = False\n",
    "        \n",
    "    def open_trunk(self):\n",
    "        if self.trunk_open == False:\n",
    "            self.trunk_open = True\n",
    "        else:\n",
    "            print('Trunk already open')\n",
    "    def close_trunk(self):\n",
    "        if self.trunk_open == True:\n",
    "            self.trunk_open = False\n",
    "        else:\n",
    "            print('Trunk is already closed.')\n",
    "        \n",
    "        "
   ]
  },
  {
   "cell_type": "markdown",
   "metadata": {
    "slideshow": {
     "slide_type": "slide"
    }
   },
   "source": [
    "Car now inherits methods/attributes from both Property and Vehicle"
   ]
  },
  {
   "cell_type": "code",
   "execution_count": 114,
   "metadata": {
    "cell_style": "center",
    "slideshow": {
     "slide_type": "slide"
    }
   },
   "outputs": [],
   "source": [
    "Austin_Honda = Car(color = 'Red',\n",
    "        owner_name = 'Austin Boring',\n",
    "        assessed_value = 6000)"
   ]
  },
  {
   "cell_type": "code",
   "execution_count": 115,
   "metadata": {
    "cell_style": "center",
    "slideshow": {
     "slide_type": "fragment"
    }
   },
   "outputs": [
    {
     "name": "stdout",
     "output_type": "stream",
     "text": [
      "Austin Boring\n",
      "6000\n"
     ]
    }
   ],
   "source": [
    "#from Property Class\n",
    "print(Austin_Honda.owner_name)\n",
    "print(Austin_Honda.assessed_value)"
   ]
  },
  {
   "cell_type": "code",
   "execution_count": 106,
   "metadata": {
    "slideshow": {
     "slide_type": "fragment"
    }
   },
   "outputs": [],
   "source": [
    "Austin_Honda.revalue_asset(3000)"
   ]
  },
  {
   "cell_type": "code",
   "execution_count": 107,
   "metadata": {
    "slideshow": {
     "slide_type": "fragment"
    }
   },
   "outputs": [
    {
     "data": {
      "text/plain": [
       "3000"
      ]
     },
     "execution_count": 107,
     "metadata": {},
     "output_type": "execute_result"
    }
   ],
   "source": [
    "Austin_Honda.assessed_value"
   ]
  },
  {
   "cell_type": "code",
   "execution_count": 101,
   "metadata": {
    "cell_style": "split",
    "slideshow": {
     "slide_type": "fragment"
    }
   },
   "outputs": [
    {
     "data": {
      "text/plain": [
       "'Red'"
      ]
     },
     "execution_count": 101,
     "metadata": {},
     "output_type": "execute_result"
    }
   ],
   "source": [
    "Austin_Honda.color"
   ]
  },
  {
   "cell_type": "code",
   "execution_count": 102,
   "metadata": {
    "cell_style": "split",
    "slideshow": {
     "slide_type": "fragment"
    }
   },
   "outputs": [
    {
     "data": {
      "text/plain": [
       "False"
      ]
     },
     "execution_count": 102,
     "metadata": {},
     "output_type": "execute_result"
    }
   ],
   "source": [
    "#from Car class\n",
    "Austin_Honda.trunk_open"
   ]
  },
  {
   "cell_type": "code",
   "execution_count": 104,
   "metadata": {
    "cell_style": "split"
   },
   "outputs": [
    {
     "data": {
      "text/plain": [
       "True"
      ]
     },
     "execution_count": 104,
     "metadata": {},
     "output_type": "execute_result"
    }
   ],
   "source": [
    "# from Vehicle class\n",
    "Austin_Honda.start()\n",
    "Austin_Honda.started"
   ]
  },
  {
   "cell_type": "code",
   "execution_count": 92,
   "metadata": {},
   "outputs": [],
   "source": [
    "c.assessed_value"
   ]
  },
  {
   "cell_type": "markdown",
   "metadata": {
    "cell_style": "center"
   },
   "source": [
    "The unifying principle here is **modularity**.\n",
    "\n",
    "- Enables us to use frameworks that already exist.\n",
    "- Input custom functionality as little box into larger framework.\n",
    "\n",
    "**Enables building more complex systems quickly.**"
   ]
  },
  {
   "cell_type": "code",
   "execution_count": 1,
   "metadata": {},
   "outputs": [],
   "source": [
    "import numpy as np\n",
    "from sklearn.base import BaseEstimator, TransformerMixin\n",
    "from sklearn.preprocessing import StandardScaler"
   ]
  },
  {
   "cell_type": "markdown",
   "metadata": {
    "hidden": true
   },
   "source": [
    "We can also define classes in terms of _other_ classes, in which case the new classes **inherit** the attributes and methods from the classes in terms of which they're defined."
   ]
  },
  {
   "cell_type": "markdown",
   "metadata": {
    "heading_collapsed": true,
    "hidden": true
   },
   "source": [
    "## Motivation: So What's the Benefit? "
   ]
  }
 ],
 "metadata": {
  "celltoolbar": "Slideshow",
  "kernelspec": {
   "display_name": "Python 3 (ipykernel)",
   "language": "python",
   "name": "python3"
  },
  "language_info": {
   "codemirror_mode": {
    "name": "ipython",
    "version": 3
   },
   "file_extension": ".py",
   "mimetype": "text/x-python",
   "name": "python",
   "nbconvert_exporter": "python",
   "pygments_lexer": "ipython3",
   "version": "3.9.7"
  },
  "toc": {
   "base_numbering": 1,
   "nav_menu": {},
   "number_sections": true,
   "sideBar": true,
   "skip_h1_title": false,
   "title_cell": "Table of Contents",
   "title_sidebar": "Contents",
   "toc_cell": true,
   "toc_position": {
    "height": "calc(100% - 180px)",
    "left": "10px",
    "top": "150px",
    "width": "384px"
   },
   "toc_section_display": true,
   "toc_window_display": true
  }
 },
 "nbformat": 4,
 "nbformat_minor": 4
}
