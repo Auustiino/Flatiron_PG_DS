{
 "cells": [
  {
   "cell_type": "markdown",
   "id": "ff9dc655",
   "metadata": {
    "slideshow": {
     "slide_type": "slide"
    }
   },
   "source": [
    "<div style=\"color:white;\n",
    "           display:fill;\n",
    "           border-radius:5px;\n",
    "           background-color:#5642C5;\n",
    "           font-size:200%;\n",
    "           font-family:Arial;letter-spacing:0.5px\">\n",
    "\n",
    "<p width = 20%, style=\"padding: 10px;\n",
    "              color:white;\">\n",
    "Combinatorics\n",
    "              \n",
    "</p>\n",
    "</div>\n",
    "\n",
    "Data Science Cohort Live NYC Feb 2022\n",
    "<p>Phase 2: Topic 1</p>\n",
    "<br>\n",
    "<br>\n",
    "\n",
    "<div align = \"right\">\n",
    "<img src=\"Images/flatiron-school-logo.png\" align = \"right\" width=\"200\"/>\n",
    "</div>\n",
    "    \n",
    "    "
   ]
  },
  {
   "cell_type": "markdown",
   "id": "12389198",
   "metadata": {
    "slideshow": {
     "slide_type": "slide"
    }
   },
   "source": [
    "#### Counting with Big Bird and Snuffy \n",
    "\n",
    "<table><tr><td><img src=\"Images/big_bird.png\" width=\"200\"/></td><td><img src=\"Images/snuffy.jpg\" width=\"400\"/></td></tr></table>"
   ]
  },
  {
   "cell_type": "markdown",
   "id": "7831be33",
   "metadata": {
    "slideshow": {
     "slide_type": "slide"
    }
   },
   "source": [
    "#### Permutations\n",
    "\n",
    "How many ways are there to arrange the big birds?\n",
    "\n",
    "<table><tr><td><img src=\"Images/big_bird.png\" width=\"100\"/><br> <center>Big Bird 1</center></td><td><img src=\"Images/big_bird.png\" width=\"100\"/><br><center>Big Bird 2</center></td><td><img src=\"Images/big_bird.png\" width=\"100\"/><br><center>Big Bird 3</center></td></tr></table>"
   ]
  },
  {
   "cell_type": "markdown",
   "id": "de7a8f05",
   "metadata": {
    "slideshow": {
     "slide_type": "subslide"
    }
   },
   "source": [
    "Equivalent to:\n",
    "\n",
    "Put the Big Birds into the three buckets."
   ]
  },
  {
   "cell_type": "markdown",
   "id": "dea9c3c8",
   "metadata": {
    "slideshow": {
     "slide_type": "subslide"
    }
   },
   "source": [
    "<table><tr><td><img src=\"Images/big_bird.png\" width=\"100\"/><br> <center>Big Bird 1</center></td><td><img src=\"Images/big_bird.png\" width=\"100\"/><br><center>Big Bird 2</center></td><td><img src=\"Images/big_bird.png\" width=\"100\"/><br><center>Big Bird 3</center></td></tr></table>\n",
    "\n",
    "<table><tr><td><img src=\"Images/kfc.jpg\" width=\"250\"/><br></td><td><img src=\"Images/kfc.jpg\" width=\"250\"/><br></td><td><img src=\"Images/kfc.jpg\" width=\"250\"/><br></td></tr></table>"
   ]
  },
  {
   "cell_type": "markdown",
   "id": "d428582b",
   "metadata": {
    "slideshow": {
     "slide_type": "slide"
    }
   },
   "source": [
    "What are the possibilities for the first bucket?"
   ]
  },
  {
   "cell_type": "markdown",
   "id": "0af7faba",
   "metadata": {
    "slideshow": {
     "slide_type": "fragment"
    }
   },
   "source": [
    "<table><tr><td><img style='border:2px solid red' src=\"Images/big_bird.png\" width=\"100\"/><br> <center>Big Bird 1</center></td><td><img src=\"Images/big_bird.png\" width=\"100\"/><br><center>Big Bird 2</center></td><td><img src=\"Images/big_bird.png\" width=\"100\"/><br><center>Big Bird 3</center></td></tr></table>\n",
    "\n",
    "<table><tr><td><img style='border:2px solid red' src=\"Images/kfc.jpg\" width=\"250\"/><br></td><td><img src=\"Images/kfc.jpg\" width=\"250\"/><br></td><td><img src=\"Images/kfc.jpg\" width=\"250\"/><br></td></tr></table>"
   ]
  },
  {
   "cell_type": "markdown",
   "id": "5e7f2271",
   "metadata": {
    "slideshow": {
     "slide_type": "subslide"
    }
   },
   "source": [
    "<table><tr><td><img  src=\"Images/big_bird.png\" width=\"100\"/><br><center>Big Bird 1</center></td><td><img style='border:2px solid red' src=\"Images/big_bird.png\" width=\"100\"/><br><center>Big Bird 2</center></td><td><img src=\"Images/big_bird.png\" width=\"100\"/><br><center>Big Bird 3</center></td></tr></table>\n",
    "\n",
    "<table><tr><td><img style='border:2px solid red' src=\"Images/kfc.jpg\" width=\"250\"/><br></td><td><img src=\"Images/kfc.jpg\" width=\"250\"/><br></td><td><img src=\"Images/kfc.jpg\" width=\"250\"/><br></td></tr></table>"
   ]
  },
  {
   "cell_type": "markdown",
   "id": "7d400198",
   "metadata": {
    "slideshow": {
     "slide_type": "subslide"
    }
   },
   "source": [
    "<table><tr><td><img  src=\"Images/big_bird.png\" width=\"100\"/><br><center>Big Bird 1</center></td><td><img  src=\"Images/big_bird.png\" width=\"100\"/><br><center>Big Bird 2</center></td><td><img style='border:2px solid red' src=\"Images/big_bird.png\" width=\"100\"/><br><center>Big Bird 3</center></td></tr></table>\n",
    "\n",
    "<table><tr><td><img style='border:2px solid red' src=\"Images/kfc.jpg\" width=\"250\"/><br></td><td><img src=\"Images/kfc.jpg\" width=\"250\"/><br></td><td><img src=\"Images/kfc.jpg\" width=\"250\"/><br></td></tr></table>"
   ]
  },
  {
   "cell_type": "markdown",
   "id": "60f4ed5e",
   "metadata": {
    "slideshow": {
     "slide_type": "slide"
    }
   },
   "source": [
    "Three possible combinations for the first bucket.\n",
    "\n",
    "- An example of one of these results:"
   ]
  },
  {
   "cell_type": "markdown",
   "id": "cb5a9986",
   "metadata": {
    "slideshow": {
     "slide_type": "subslide"
    }
   },
   "source": [
    "<table><tr><td><img src=\"Images/big_bird.png\" width=\"100\"/><br><center>Big Bird 2</center></td><td><img src=\"Images/big_bird.png\" width=\"100\"/><br><center>Big Bird 3</center></td></tr></table>\n",
    "\n",
    "<table><tr><td><img src=\"Images/kfc_full.png\" width=\"250\"/><br><center>Big Bird 1</center></td><td><img style='border:2px solid red' src=\"Images/kfc.jpg\" width=\"250\"/><br></td><td><img style='border:2px solid red' src=\"Images/kfc.jpg\" width=\"250\"/><br></td></tr></table>"
   ]
  },
  {
   "cell_type": "markdown",
   "id": "8ffe8b8f",
   "metadata": {
    "slideshow": {
     "slide_type": "slide"
    }
   },
   "source": [
    "But could have had:"
   ]
  },
  {
   "cell_type": "markdown",
   "id": "73379a01",
   "metadata": {
    "slideshow": {
     "slide_type": "subslide"
    }
   },
   "source": [
    "<table><tr><td><img src=\"Images/big_bird.png\" width=\"100\"/><br><center>Big Bird 1</center></td><td><img src=\"Images/big_bird.png\" width=\"100\"/><br><center>Big Bird 3</center></td></tr></table>\n",
    "\n",
    "<table><tr><td><img src=\"Images/kfc_full.png\" width=\"250\"/><br><center>Big Bird 2</center></td><td><img style='border:2px solid red' src=\"Images/kfc.jpg\" width=\"250\"/><br></td><td><img style='border:2px solid red' src=\"Images/kfc.jpg\" width=\"250\"/><br></td></tr></table>"
   ]
  },
  {
   "cell_type": "markdown",
   "id": "51d47b12",
   "metadata": {
    "slideshow": {
     "slide_type": "slide"
    }
   },
   "source": [
    "For each of previous possibilities:\n",
    "- Put one of remaining birds in the second bucket.\n",
    "    "
   ]
  },
  {
   "cell_type": "markdown",
   "id": "a119eb82",
   "metadata": {
    "slideshow": {
     "slide_type": "subslide"
    }
   },
   "source": [
    "<table><tr><td><img style='border:2px solid red' src=\"Images/big_bird.png\" width=\"100\"/><br><center>Big Bird 2</center></td><td><img src=\"Images/big_bird.png\" width=\"100\"/><br><center>Big Bird 3</center></td></tr></table>\n",
    "\n",
    "<table><tr><td><img src=\"Images/kfc_full.png\" width=\"250\"/><br><center>Big Bird 1</center></td><td><img style='border:2px solid red' src=\"Images/kfc.jpg\" width=\"250\"/><br></td><td><img src=\"Images/kfc.jpg\" width=\"250\"/><br></td></tr></table>"
   ]
  },
  {
   "cell_type": "markdown",
   "id": "e7661779",
   "metadata": {
    "slideshow": {
     "slide_type": "subslide"
    }
   },
   "source": [
    "<table><tr><td><img src=\"Images/big_bird.png\" width=\"100\"/><br><center>Big Bird 2</center></td><td><img style='border:2px solid red' src=\"Images/big_bird.png\" width=\"100\"/><br><center>Big Bird 3</center></td></tr></table>\n",
    "\n",
    "<table><tr><td><img src=\"Images/kfc_full.png\" width=\"250\"/><br><center>Big Bird 1</center></td><td><img style='border:2px solid red' src=\"Images/kfc.jpg\" width=\"250\"/><br></td><td><img src=\"Images/kfc.jpg\" width=\"250\"/><br></td></tr></table>"
   ]
  },
  {
   "cell_type": "markdown",
   "id": "15dabb80",
   "metadata": {
    "slideshow": {
     "slide_type": "slide"
    }
   },
   "source": [
    "Three possible placements for the first bucket.\n",
    "\n",
    "For each possibility on first bucket:\n",
    "- 2 possible placements for second bucket\n",
    "\n"
   ]
  },
  {
   "cell_type": "markdown",
   "id": "f3c7dad6",
   "metadata": {
    "slideshow": {
     "slide_type": "subslide"
    }
   },
   "source": [
    "Example of one of these results:"
   ]
  },
  {
   "cell_type": "markdown",
   "id": "abf9ee7c",
   "metadata": {
    "slideshow": {
     "slide_type": "subslide"
    }
   },
   "source": [
    "<table><tr><td><img src=\"Images/big_bird.png\" width=\"100\"/><br><center>Big Bird 2</center></td></tr></table>\n",
    "\n",
    "<table><tr><td><img src=\"Images/kfc_full.png\" width=\"250\"/><br><center>Big Bird 1</center></td><td><img  src=\"Images/kfc_full.png\" width=\"250\"/><br><center>Big Bird 3</center></td><td><img src=\"Images/kfc.jpg\" width=\"250\"/><br></td></tr></table>"
   ]
  },
  {
   "cell_type": "markdown",
   "id": "155324e6",
   "metadata": {
    "slideshow": {
     "slide_type": "slide"
    }
   },
   "source": [
    "And obviously for each choice on first and second bucket:\n",
    "    \n",
    "Last bucket, one bird left. One possibility."
   ]
  },
  {
   "cell_type": "markdown",
   "id": "c39ff7c2",
   "metadata": {
    "slideshow": {
     "slide_type": "subslide"
    }
   },
   "source": [
    "<table><tr><td><img style='border:2px solid red' src=\"Images/big_bird.png\" width=\"100\"/><br><center>Big Bird 2</center></td></tr></table>\n",
    "\n",
    "<table><tr><td><img src=\"Images/kfc_full.png\" width=\"250\"/><br><center>Big Bird 1</center></td><td><img  src=\"Images/kfc_full.png\" width=\"250\"/><br><center>Big Bird 3</center></td><td><img style='border:2px solid red' src=\"Images/kfc.jpg\" width=\"250\"/><br></td></tr></table>"
   ]
  },
  {
   "cell_type": "markdown",
   "id": "e4213e8a",
   "metadata": {
    "slideshow": {
     "slide_type": "slide"
    }
   },
   "source": [
    "\n",
    "\n",
    "<table><tr><td><img src=\"Images/kfc_full.png\" width=\"250\"/><br><center>Big Bird 1</center></td><td><img  src=\"Images/kfc_full.png\" width=\"250\"/><br><center>Big Bird 3</center></td><td><img src=\"Images/kfc_full.png\" width=\"250\"/><br><center>Big Bird 2</center></td></tr></table>"
   ]
  },
  {
   "cell_type": "markdown",
   "id": "6514bca2",
   "metadata": {
    "slideshow": {
     "slide_type": "slide"
    }
   },
   "source": [
    "If played this game for all the possibilities:\n"
   ]
  },
  {
   "cell_type": "markdown",
   "id": "20e8f4bf",
   "metadata": {
    "cell_style": "split",
    "slideshow": {
     "slide_type": "subslide"
    }
   },
   "source": [
    "\n",
    "<table>\n",
    "    <tr><td><img src=\"Images/kfc_full.png\" width=\"100\"/><br><center>Big Bird 1</center></td><td><img  src=\"Images/kfc_full.png\" width=\"100\"/><br><center>Big Bird 3</center></td><td><img src=\"Images/kfc_full.png\" width=\"100\"/><br><center>Big Bird 2</center></td></tr>\n",
    "        <tr><td><img src=\"Images/kfc_full.png\" width=\"100\"/><br><center>Big Bird 1</center></td><td><img  src=\"Images/kfc_full.png\" width=\"100\"/><br><center>Big Bird 2</center></td><td><img src=\"Images/kfc_full.png\" width=\"100\"/><br><center>Big Bird 3</center></td></tr>\n",
    "        <tr><td><img src=\"Images/kfc_full.png\" width=\"100\"/><br><center>Big Bird 2</center></td><td><img  src=\"Images/kfc_full.png\" width=\"100\"/><br><center>Big Bird 1</center></td><td><img src=\"Images/kfc_full.png\" width=\"100\"/><br><center>Big Bird 3</center></td></tr>\n",
    "\n",
    "</table>"
   ]
  },
  {
   "cell_type": "markdown",
   "id": "4030fab8",
   "metadata": {
    "cell_style": "split",
    "slideshow": {
     "slide_type": "-"
    }
   },
   "source": [
    "<table>\n",
    "    <tr><td><img src=\"Images/kfc_full.png\" width=\"100\"/><br><center>Big Bird 2</center></td><td><img  src=\"Images/kfc_full.png\" width=\"100\"/><br><center>Big Bird 3</center></td><td><img src=\"Images/kfc_full.png\" width=\"100\"/><br><center>Big Bird 1</center></td></tr>\n",
    "        <tr><td><img src=\"Images/kfc_full.png\" width=\"100\"/><br><center>Big Bird 3</center></td><td><img  src=\"Images/kfc_full.png\" width=\"100\"/><br><center>Big Bird 1</center></td><td><img src=\"Images/kfc_full.png\" width=\"100\"/><br><center>Big Bird 2</center></td></tr>\n",
    "        <tr><td><img src=\"Images/kfc_full.png\" width=\"100\"/><br><center>Big Bird 3</center></td><td><img  src=\"Images/kfc_full.png\" width=\"100\"/><br><center>Big Bird 2</center></td><td><img src=\"Images/kfc_full.png\" width=\"100\"/><br><center>Big Bird 1</center></td></tr>\n",
    "\n",
    "</table>"
   ]
  },
  {
   "cell_type": "markdown",
   "id": "5654f5f9",
   "metadata": {
    "slideshow": {
     "slide_type": "subslide"
    }
   },
   "source": [
    "6 possible arrangements or permutations of big birds:\n",
    "- Equivalent to ways in which to put the birds in buckets."
   ]
  },
  {
   "cell_type": "markdown",
   "id": "2d7148b6",
   "metadata": {
    "slideshow": {
     "slide_type": "subslide"
    }
   },
   "source": [
    "Final result:\n",
    "- 3 possible places to put first big bird\n",
    "    - For each possible choice above: \n",
    "        - 2 possible places to put second big bird\n",
    "            - For each possible choice above:\n",
    "                - 1 possible place to put third big bird\n",
    "\n"
   ]
  },
  {
   "cell_type": "markdown",
   "id": "14c5404b",
   "metadata": {
    "slideshow": {
     "slide_type": "subslide"
    }
   },
   "source": [
    "Total configurations = $3\\times2\\times1 = 6 $\n",
    "\n",
    "All possible ways to arrange/permute the big birds!"
   ]
  },
  {
   "cell_type": "markdown",
   "id": "84c42bbf",
   "metadata": {
    "slideshow": {
     "slide_type": "fragment"
    }
   },
   "source": [
    "In general for N objects:\n",
    "\n",
    "$$ N! = N(N-1)(N-2)(N-3)....2\\times1 $$ is the number of permutations (or arrangements)"
   ]
  },
  {
   "cell_type": "markdown",
   "id": "942957a5",
   "metadata": {
    "slideshow": {
     "slide_type": "slide"
    }
   },
   "source": [
    "Now a slighly different scenario:\n",
    "- 5 Big Birds\n",
    "- 3 buckets"
   ]
  },
  {
   "cell_type": "markdown",
   "id": "81b22984",
   "metadata": {
    "slideshow": {
     "slide_type": "subslide"
    }
   },
   "source": [
    "<table><tr><td><img style='border:2px solid red' src=\"Images/big_bird.png\" width=\"100\"/><br><center>Big Bird 1</center></td><td><img style='border:2px solid red' src=\"Images/big_bird.png\" width=\"100\"/><br><center>Big Bird 2</center></td><td><img style='border:2px solid red' src=\"Images/big_bird.png\" width=\"100\"/><br><center>Big Bird 3</center></td><td><img style='border:2px solid red' src=\"Images/big_bird.png\" width=\"100\"/><br><center>Big Bird 4</center></td><td><img style='border:2px solid red' src=\"Images/big_bird.png\" width=\"100\"/><br><center>Big Bird 5</center></td></tr></table>\n",
    "\n",
    "<table><tr><td><img style='border:2px solid red' src=\"Images/kfc.jpg\" width=\"250\"/><br></td><td><img src=\"Images/kfc.jpg\" width=\"250\"/><br></td><td><img src=\"Images/kfc.jpg\" width=\"250\"/><br></td></tr></table>"
   ]
  },
  {
   "cell_type": "markdown",
   "id": "625f7b0b",
   "metadata": {
    "slideshow": {
     "slide_type": "slide"
    }
   },
   "source": [
    "Any of the five can go into first bucket.\n",
    "\n",
    "What about the second bucket?"
   ]
  },
  {
   "cell_type": "markdown",
   "id": "b1b314ba",
   "metadata": {
    "slideshow": {
     "slide_type": "subslide"
    }
   },
   "source": [
    "<table><tr><td><img style='border:2px solid red' src=\"Images/big_bird.png\" width=\"100\"/><br><center>Big Bird 1</center></td><td><img style='border:2px solid red' src=\"Images/big_bird.png\" width=\"100\"/><br><center>Big Bird 2</center></td><td><img style='border:2px solid red' src=\"Images/big_bird.png\" width=\"100\"/><br><center>Big Bird 3</center></td><td><img style='border:2px solid red' src=\"Images/big_bird.png\" width=\"100\"/><br><center>Big Bird 5</center></td></tr></table>\n",
    "\n",
    "<table><tr><td><img src=\"Images/kfc_full.png\" width=\"250\"/><br><center>Big Bird 4</center></td><td><img style='border:2px solid red'src=\"Images/kfc.jpg\" width=\"250\"/><br></td><td><img src=\"Images/kfc.jpg\" width=\"250\"/><br></td></tr></table>"
   ]
  },
  {
   "cell_type": "markdown",
   "id": "536fc53c",
   "metadata": {
    "slideshow": {
     "slide_type": "subslide"
    }
   },
   "source": [
    "<table><tr><td><img style='border:2px solid red' src=\"Images/big_bird.png\" width=\"100\"/><br><center>Big Bird 1</center></td><td><img style='border:2px solid red' src=\"Images/big_bird.png\" width=\"100\"/><br><center>Big Bird 3</center></td><td><img style='border:2px solid red' src=\"Images/big_bird.png\" width=\"100\"/><br><center>Big Bird 5</center></td></tr></table>\n",
    "\n",
    "<table><tr><td><img src=\"Images/kfc_full.png\" width=\"250\"/><br><center>Big Bird 4</center></td><td><img src=\"Images/kfc_full.png\" width=\"250\"/><br><center>Big Bird 2</center></td><td><img style='border:2px solid red' src=\"Images/kfc.jpg\" width=\"250\"/><br></td></tr></table>"
   ]
  },
  {
   "cell_type": "markdown",
   "id": "45310ad7",
   "metadata": {
    "slideshow": {
     "slide_type": "slide"
    }
   },
   "source": [
    "The last bucket: three possibilities.\n",
    "\n",
    "Putting it altogether: $ 5\\times 4 \\times 3 = 60 $"
   ]
  },
  {
   "cell_type": "markdown",
   "id": "ab627b76",
   "metadata": {
    "slideshow": {
     "slide_type": "subslide"
    }
   },
   "source": [
    "<table><tr><td><img style='border:2px solid red' src=\"Images/big_bird.png\" width=\"100\"/><br><center>Big Bird 1</center></td><td><img style='border:2px solid red' src=\"Images/big_bird.png\" width=\"100\"/><br><center>Big Bird 3</center></td><td></tr></table>\n",
    "\n",
    "<table><tr><td><img src=\"Images/kfc_full.png\" width=\"250\"/><br><center>Big Bird 4</center></td><td><img src=\"Images/kfc_full.png\" width=\"250\"/><br><center>Big Bird 2</center></td><td><img src=\"Images/kfc_full.png\" width=\"250\"/><br><center>Big Bird 5</center></td></tr></table>"
   ]
  },
  {
   "cell_type": "markdown",
   "id": "5e86858b",
   "metadata": {
    "slideshow": {
     "slide_type": "slide"
    }
   },
   "source": [
    "Another way to formulate the counting:\n",
    "\n",
    "$$ 5\\times4\\times3 = \\frac{5\\times4\\times3\\times2\\times1}{2\\times1} = \\frac{5!}{2!} = \\frac{5!}{(5-3)!} = 60  $$ "
   ]
  },
  {
   "cell_type": "markdown",
   "id": "0f1778a6",
   "metadata": {
    "slideshow": {
     "slide_type": "fragment"
    }
   },
   "source": [
    "The general permutation case: n objects, r bins.\n",
    "\n",
    "Total arrangements:\n",
    "\n",
    "$$ P(n,r) = \\frac{n!}{(n-r)!} $$"
   ]
  },
  {
   "cell_type": "markdown",
   "id": "bafc04cc",
   "metadata": {
    "slideshow": {
     "slide_type": "slide"
    }
   },
   "source": [
    "#### Permutations in Python\n",
    "- Get permutations of object selections:\n",
    "    - lists and base Python\n",
    "    - arrays and numpy methods"
   ]
  },
  {
   "cell_type": "markdown",
   "id": "43147753",
   "metadata": {
    "slideshow": {
     "slide_type": "fragment"
    }
   },
   "source": [
    "Starting with base python and lists:\n",
    "- Very useful library: itertools"
   ]
  },
  {
   "cell_type": "code",
   "execution_count": 92,
   "id": "5a0d504c",
   "metadata": {
    "slideshow": {
     "slide_type": "fragment"
    }
   },
   "outputs": [],
   "source": [
    "import itertools"
   ]
  },
  {
   "cell_type": "markdown",
   "id": "0093be2b",
   "metadata": {
    "slideshow": {
     "slide_type": "slide"
    }
   },
   "source": [
    "- itertools.permutations(collection, num_buckets)\n",
    "- num_bucket default is number of elements in collection\n"
   ]
  },
  {
   "cell_type": "code",
   "execution_count": 20,
   "id": "02c5769c",
   "metadata": {
    "slideshow": {
     "slide_type": "subslide"
    }
   },
   "outputs": [
    {
     "data": {
      "text/plain": [
       "[(1, 2, 3), (1, 3, 2), (2, 1, 3), (2, 3, 1), (3, 1, 2), (3, 2, 1)]"
      ]
     },
     "execution_count": 20,
     "metadata": {},
     "output_type": "execute_result"
    }
   ],
   "source": [
    "permutation_list = list(itertools.permutations([1,2,3]))\n",
    "permutation_list"
   ]
  },
  {
   "cell_type": "markdown",
   "id": "c500b12e",
   "metadata": {
    "slideshow": {
     "slide_type": "fragment"
    }
   },
   "source": [
    "Can get the number of permutations:"
   ]
  },
  {
   "cell_type": "code",
   "execution_count": 21,
   "id": "5f54cbab",
   "metadata": {
    "slideshow": {
     "slide_type": "fragment"
    }
   },
   "outputs": [
    {
     "data": {
      "text/plain": [
       "6"
      ]
     },
     "execution_count": 21,
     "metadata": {},
     "output_type": "execute_result"
    }
   ],
   "source": [
    "P_n = len(permutation_list)\n",
    "P_n"
   ]
  },
  {
   "cell_type": "markdown",
   "id": "195e4442",
   "metadata": {
    "slideshow": {
     "slide_type": "slide"
    }
   },
   "source": [
    "Can also specify number we want to select:\n",
    "- i.e. number of buckets"
   ]
  },
  {
   "cell_type": "code",
   "execution_count": 22,
   "id": "a8aa2ce2",
   "metadata": {
    "slideshow": {
     "slide_type": "subslide"
    }
   },
   "outputs": [],
   "source": [
    "# numbers we are selecting from\n",
    "larger_list = [1,2,3,4,5]\n",
    "# choose number of buckets putting numbers into\n",
    "num_buckets = 3\n",
    "permutation_selector = list(itertools.permutations(larger_list, num_buckets))"
   ]
  },
  {
   "cell_type": "code",
   "execution_count": 25,
   "id": "c3b69c0c",
   "metadata": {
    "slideshow": {
     "slide_type": "fragment"
    }
   },
   "outputs": [
    {
     "name": "stdout",
     "output_type": "stream",
     "text": [
      "[(1, 2, 3), (1, 2, 4), (1, 2, 5), (1, 3, 2), (1, 3, 4), (1, 3, 5), (1, 4, 2), (1, 4, 3), (1, 4, 5), (1, 5, 2), (1, 5, 3), (1, 5, 4), (2, 1, 3), (2, 1, 4), (2, 1, 5), (2, 3, 1), (2, 3, 4), (2, 3, 5), (2, 4, 1), (2, 4, 3), (2, 4, 5), (2, 5, 1), (2, 5, 3), (2, 5, 4), (3, 1, 2), (3, 1, 4), (3, 1, 5), (3, 2, 1), (3, 2, 4), (3, 2, 5), (3, 4, 1), (3, 4, 2), (3, 4, 5), (3, 5, 1), (3, 5, 2), (3, 5, 4), (4, 1, 2), (4, 1, 3), (4, 1, 5), (4, 2, 1), (4, 2, 3), (4, 2, 5), (4, 3, 1), (4, 3, 2), (4, 3, 5), (4, 5, 1), (4, 5, 2), (4, 5, 3), (5, 1, 2), (5, 1, 3), (5, 1, 4), (5, 2, 1), (5, 2, 3), (5, 2, 4), (5, 3, 1), (5, 3, 2), (5, 3, 4), (5, 4, 1), (5, 4, 2), (5, 4, 3)]\n"
     ]
    }
   ],
   "source": [
    "print(permutation_selector)"
   ]
  },
  {
   "cell_type": "code",
   "execution_count": 27,
   "id": "799975c7",
   "metadata": {
    "slideshow": {
     "slide_type": "subslide"
    }
   },
   "outputs": [
    {
     "data": {
      "text/plain": [
       "60"
      ]
     },
     "execution_count": 27,
     "metadata": {},
     "output_type": "execute_result"
    }
   ],
   "source": [
    "n_selector = len(permutation_selector)\n",
    "n_selector"
   ]
  },
  {
   "cell_type": "markdown",
   "id": "4d8a1c6d",
   "metadata": {
    "slideshow": {
     "slide_type": "slide"
    }
   },
   "source": [
    "Can do similar things with numpy arrays/pandas Series:\n",
    "- But more importantly can get:\n",
    "    - A random instance of a permutation of the array\n",
    "    - A random sampling sequence of a given array\n",
    "\n",
    "- np.random permutation function"
   ]
  },
  {
   "cell_type": "code",
   "execution_count": 36,
   "id": "2169ed58",
   "metadata": {
    "slideshow": {
     "slide_type": "fragment"
    }
   },
   "outputs": [],
   "source": [
    "# import libraries and permutation function\n",
    "from numpy.random import permutation\n",
    "import numpy as np"
   ]
  },
  {
   "cell_type": "markdown",
   "id": "33890ea8",
   "metadata": {
    "slideshow": {
     "slide_type": "slide"
    }
   },
   "source": [
    "Let's define a simple numpy array:"
   ]
  },
  {
   "cell_type": "code",
   "execution_count": 37,
   "id": "19f6b4dd",
   "metadata": {
    "slideshow": {
     "slide_type": "fragment"
    }
   },
   "outputs": [],
   "source": [
    "simple_arr = np.array([1,2,3])"
   ]
  },
  {
   "cell_type": "code",
   "execution_count": 94,
   "id": "586da6a3",
   "metadata": {
    "slideshow": {
     "slide_type": "fragment"
    }
   },
   "outputs": [
    {
     "data": {
      "text/plain": [
       "array([2, 1, 3])"
      ]
     },
     "execution_count": 94,
     "metadata": {},
     "output_type": "execute_result"
    }
   ],
   "source": [
    "np.random.permutation([1,2,3])"
   ]
  },
  {
   "cell_type": "markdown",
   "id": "ac4a0cde",
   "metadata": {
    "slideshow": {
     "slide_type": "slide"
    }
   },
   "source": [
    "Similar to when we were putting 5 big birds into 3 bins:\n",
    "\n",
    "- Select a subset of a list\n",
    "- np.random choice function"
   ]
  },
  {
   "cell_type": "code",
   "execution_count": 95,
   "id": "2bc0b00e",
   "metadata": {
    "slideshow": {
     "slide_type": "fragment"
    }
   },
   "outputs": [],
   "source": [
    "# will do a selection for us:\n",
    "from numpy.random import choice\n",
    "\n",
    "larger_array= np.array([1,2,3,4,5])\n",
    "num_buckets = 3"
   ]
  },
  {
   "cell_type": "markdown",
   "id": "73f2bd86",
   "metadata": {
    "slideshow": {
     "slide_type": "subslide"
    }
   },
   "source": [
    "The choice function takes elements in sequence:\n",
    "- out of original selection pool (replacement = False)\n",
    "- into \"sampled\" array\n"
   ]
  },
  {
   "cell_type": "code",
   "execution_count": 105,
   "id": "c72fe0bf",
   "metadata": {
    "slideshow": {
     "slide_type": "fragment"
    }
   },
   "outputs": [
    {
     "data": {
      "text/plain": [
       "array([1, 5, 2])"
      ]
     },
     "execution_count": 105,
     "metadata": {},
     "output_type": "execute_result"
    }
   ],
   "source": [
    "choice(larger_array, size = num_buckets, replace = False)"
   ]
  },
  {
   "cell_type": "markdown",
   "id": "936955fc",
   "metadata": {
    "slideshow": {
     "slide_type": "slide"
    }
   },
   "source": [
    "#### Combinations\n",
    "\n",
    "Let's go back to our prevous big bird selection:\n",
    "\n",
    "Counted how many ways to put Big Bird 1-5 into 3 buckets.\n",
    "\n",
    "A particular result:"
   ]
  },
  {
   "cell_type": "markdown",
   "id": "474422e2",
   "metadata": {
    "slideshow": {
     "slide_type": "subslide"
    }
   },
   "source": [
    "<table><tr><td><img style='border:2px solid red' src=\"Images/big_bird.png\" width=\"100\"/><br><center>Big Bird 1</center></td><td><img style='border:2px solid red' src=\"Images/big_bird.png\" width=\"100\"/><br><center>Big Bird 3</center></td><td></tr></table>\n",
    "\n",
    "<table><tr><td><img src=\"Images/kfc_full.png\" width=\"250\"/><br><center>Big Bird 4</center></td><td><img src=\"Images/kfc_full.png\" width=\"250\"/><br><center>Big Bird 2</center></td><td><img src=\"Images/kfc_full.png\" width=\"250\"/><br><center>Big Bird 5</center></td></tr></table>"
   ]
  },
  {
   "cell_type": "markdown",
   "id": "95126fe8",
   "metadata": {
    "slideshow": {
     "slide_type": "slide"
    }
   },
   "source": [
    "Another result:"
   ]
  },
  {
   "cell_type": "markdown",
   "id": "8b88eed1",
   "metadata": {
    "slideshow": {
     "slide_type": "subslide"
    }
   },
   "source": [
    "<table><tr><td><img style='border:2px solid red' src=\"Images/big_bird.png\" width=\"100\"/><br><center>Big Bird 1</center></td><td><img style='border:2px solid red' src=\"Images/big_bird.png\" width=\"100\"/><br><center>Big Bird 3</center></td><td></tr></table>\n",
    "\n",
    "<table><tr><td><img src=\"Images/kfc_full.png\" width=\"250\"/><br><center>Big Bird 2</center></td><td><img src=\"Images/kfc_full.png\" width=\"250\"/><br><center>Big Bird 5</center></td><td><img src=\"Images/kfc_full.png\" width=\"250\"/><br><center>Big Bird 4</center></td></tr></table>"
   ]
  },
  {
   "cell_type": "markdown",
   "id": "50a5ef72",
   "metadata": {
    "slideshow": {
     "slide_type": "slide"
    }
   },
   "source": [
    "Previously:\n",
    "    \n",
    "- Counted previous instances as separate outcomes.\n",
    "- Order of selection mattered.\n",
    "\n",
    "But what if I only care that Big Bird 2, 4, and 5 sit in buckets?\n",
    "\n",
    "Not the order."
   ]
  },
  {
   "cell_type": "markdown",
   "id": "be0100c9",
   "metadata": {
    "slideshow": {
     "slide_type": "subslide"
    }
   },
   "source": [
    "Two equivalent selections: \n",
    "<table><tr><td><img src=\"Images/kfc_full.png\" width=\"100\"/><br><center>Big Bird 2</center></td><td><img src=\"Images/kfc_full.png\" width=\"100\"/><br><center>Big Bird 5</center></td><td><img src=\"Images/kfc_full.png\" width=\"100\"/><br><center>Big Bird 4</center></td></tr>\n",
    "\n",
    "<tr><td><img src=\"Images/kfc_full.png\" width=\"100\"/><br><center>Big Bird 5</center></td><td><img src=\"Images/kfc_full.png\" width=\"100\"/><br><center>Big Bird 2</center></td><td><img src=\"Images/kfc_full.png\" width=\"100\"/><br><center>Big Bird 4</center></td></tr>\n",
    "\n",
    "</table>\n",
    "<center>Number of equivalent selections here?</center>"
   ]
  },
  {
   "cell_type": "markdown",
   "id": "0c1809a5",
   "metadata": {
    "slideshow": {
     "slide_type": "fragment"
    }
   },
   "source": [
    "3! equivalent selections for 3 buckets."
   ]
  },
  {
   "cell_type": "markdown",
   "id": "e2354444",
   "metadata": {
    "cell_style": "split",
    "slideshow": {
     "slide_type": "slide"
    }
   },
   "source": [
    "Number of permutation: \n",
    "\n",
    "$$ P(5,3) = \\frac{5!}{(5-3)!} = 60 $$\n",
    "\n",
    "Order of selection matters here."
   ]
  },
  {
   "cell_type": "markdown",
   "id": "3e29cddd",
   "metadata": {
    "cell_style": "split",
    "slideshow": {
     "slide_type": "fragment"
    }
   },
   "source": [
    "All the permutations:\n",
    "- But now for each arrangement in buckets:\n",
    "- Divide out the number of equivalent selections (number of bins)\n",
    "\n",
    "Number of **combinations**:\n",
    "\n",
    "$$ C(5,3) = \\frac{5!}{(5-3)!3!} =10 $$"
   ]
  },
  {
   "cell_type": "markdown",
   "id": "f7a2b6d4",
   "metadata": {
    "cell_style": "split",
    "slideshow": {
     "slide_type": "slide"
    }
   },
   "source": [
    "The general permutation case: n objects, r bins.\n",
    "\n",
    "Total arrangements:\n",
    "\n",
    "$$ P(n,r) = \\frac{n!}{(n-r)!} $$"
   ]
  },
  {
   "cell_type": "markdown",
   "id": "74bbc219",
   "metadata": {
    "cell_style": "split",
    "slideshow": {
     "slide_type": "fragment"
    }
   },
   "source": [
    "General formula for combinations\n",
    "$$ C(N, r) = {N \\choose r} =   \\frac{N!}{(N - r)! r!} $$"
   ]
  },
  {
   "cell_type": "markdown",
   "id": "a2039162",
   "metadata": {
    "slideshow": {
     "slide_type": "slide"
    }
   },
   "source": [
    "With Python:"
   ]
  },
  {
   "cell_type": "code",
   "execution_count": 81,
   "id": "1adbd162",
   "metadata": {
    "cell_style": "center",
    "scrolled": true,
    "slideshow": {
     "slide_type": "fragment"
    }
   },
   "outputs": [
    {
     "name": "stdout",
     "output_type": "stream",
     "text": [
      "[(1, 2, 3), (1, 2, 4), (1, 2, 5), (1, 3, 2), (1, 3, 4), (1, 3, 5), (1, 4, 2), (1, 4, 3), (1, 4, 5), (1, 5, 2), (1, 5, 3), (1, 5, 4), (2, 1, 3), (2, 1, 4), (2, 1, 5), (2, 3, 1), (2, 3, 4), (2, 3, 5), (2, 4, 1), (2, 4, 3), (2, 4, 5), (2, 5, 1), (2, 5, 3), (2, 5, 4), (3, 1, 2), (3, 1, 4), (3, 1, 5), (3, 2, 1), (3, 2, 4), (3, 2, 5), (3, 4, 1), (3, 4, 2), (3, 4, 5), (3, 5, 1), (3, 5, 2), (3, 5, 4), (4, 1, 2), (4, 1, 3), (4, 1, 5), (4, 2, 1), (4, 2, 3), (4, 2, 5), (4, 3, 1), (4, 3, 2), (4, 3, 5), (4, 5, 1), (4, 5, 2), (4, 5, 3), (5, 1, 2), (5, 1, 3), (5, 1, 4), (5, 2, 1), (5, 2, 3), (5, 2, 4), (5, 3, 1), (5, 3, 2), (5, 3, 4), (5, 4, 1), (5, 4, 2), (5, 4, 3)]\n"
     ]
    }
   ],
   "source": [
    "perms = list(itertools.permutations([1,2,3,4,5], 3))\n",
    "print(perms)"
   ]
  },
  {
   "cell_type": "code",
   "execution_count": 91,
   "id": "a848abd7",
   "metadata": {
    "slideshow": {
     "slide_type": "fragment"
    }
   },
   "outputs": [
    {
     "data": {
      "text/plain": [
       "60"
      ]
     },
     "execution_count": 91,
     "metadata": {},
     "output_type": "execute_result"
    }
   ],
   "source": [
    "len(perms)"
   ]
  },
  {
   "cell_type": "markdown",
   "id": "1c4e2e1e",
   "metadata": {
    "slideshow": {
     "slide_type": "subslide"
    }
   },
   "source": [
    "Get combinations:\n",
    "- itertools.combinations(collection, num_selections)"
   ]
  },
  {
   "cell_type": "code",
   "execution_count": 89,
   "id": "3361cdea",
   "metadata": {
    "cell_style": "center",
    "scrolled": true,
    "slideshow": {
     "slide_type": "fragment"
    }
   },
   "outputs": [
    {
     "name": "stdout",
     "output_type": "stream",
     "text": [
      "[(1, 2, 3), (1, 2, 4), (1, 2, 5), (1, 3, 4), (1, 3, 5), (1, 4, 5), (2, 3, 4), (2, 3, 5), (2, 4, 5), (3, 4, 5)]\n"
     ]
    }
   ],
   "source": [
    "combs = list(itertools.combinations([1,2,3,4,5], 3))\n",
    "print(combs)"
   ]
  },
  {
   "cell_type": "code",
   "execution_count": 90,
   "id": "a5ad1df9",
   "metadata": {
    "slideshow": {
     "slide_type": "fragment"
    }
   },
   "outputs": [
    {
     "data": {
      "text/plain": [
       "10"
      ]
     },
     "execution_count": 90,
     "metadata": {},
     "output_type": "execute_result"
    }
   ],
   "source": [
    "len(combs)"
   ]
  },
  {
   "cell_type": "markdown",
   "id": "ccd6ee7c",
   "metadata": {
    "cell_style": "split",
    "slideshow": {
     "slide_type": "slide"
    }
   },
   "source": [
    "So far:\n",
    "- Taking from a pile and put into bins:\n",
    "    - people select randomly from a bag and keeping selection\n",
    "    - **sampling without replacement**"
   ]
  },
  {
   "cell_type": "markdown",
   "id": "20ffb3b5",
   "metadata": {
    "cell_style": "split",
    "slideshow": {
     "slide_type": "fragment"
    }
   },
   "source": [
    "- Other option:\n",
    "    - Pick from a bag at random\n",
    "    - When done with selection, put back in bag.\n",
    "    - **sampling with replacement**"
   ]
  },
  {
   "cell_type": "markdown",
   "id": "7c4bd278",
   "metadata": {
    "cell_style": "split",
    "slideshow": {
     "slide_type": "slide"
    }
   },
   "source": [
    "#### Sample with replacement: example \n",
    "Each bin: choose either a Big Bird or a Snuffy.\n",
    "\n",
    "<table><tr><td><img src=\"Images/big_bird.png\" width=\"100\"/></td><td><img src=\"Images/snuffy.jpg\" width=\"200\"/></td></tr></table><br>\n"
   ]
  },
  {
   "cell_type": "markdown",
   "id": "2a282525",
   "metadata": {
    "cell_style": "split",
    "slideshow": {
     "slide_type": "fragment"
    }
   },
   "source": [
    "Put them in the cages:\n",
    "<table><tr><td><img src=\"Images/cage.jpg\" width=\"200\"/></td><td><img src=\"Images/cage.jpg\" width=\"200\"/></td></tr></table>"
   ]
  },
  {
   "cell_type": "markdown",
   "id": "8184a76e",
   "metadata": {
    "cell_style": "split",
    "slideshow": {
     "slide_type": "fragment"
    }
   },
   "source": [
    "How many ways this time?"
   ]
  },
  {
   "cell_type": "markdown",
   "id": "8761dc75",
   "metadata": {
    "slideshow": {
     "slide_type": "fragment"
    }
   },
   "source": [
    "- First cage: 2 possibilities, Second cage: 2 possibilities\n",
    "- Total: $ 2 \\times 2 = 4 $\n",
    "- Counts all orderings!"
   ]
  },
  {
   "cell_type": "markdown",
   "id": "fbcf4d9c",
   "metadata": {
    "slideshow": {
     "slide_type": "slide"
    }
   },
   "source": [
    "\n",
    "<center><img src=\"Images/the_count.jpg\" width=\"500\"/></center>\n",
    "<center> Wait! Count me in! </center>"
   ]
  },
  {
   "cell_type": "markdown",
   "id": "3ad82d81",
   "metadata": {
    "slideshow": {
     "slide_type": "slide"
    }
   },
   "source": [
    "\n",
    "<table><tr><td><img src=\"Images/big_bird.png\" width=\"100\"/></td>\n",
    "<td><img src=\"Images/snuffy.jpg\" width=\"200\"/></td>\n",
    "<td><img src=\"Images/the_count.jpg\" width=\"200\"/></td></tr></table><br>\n",
    "\n",
    "Put them in the bins. Sample with replacement!\n",
    "<table><tr><td><img src=\"Images/cage.jpg\" width=\"200\"/></td><td><img src=\"Images/cage.jpg\" width=\"200\"/></td></tr></table>"
   ]
  },
  {
   "cell_type": "markdown",
   "id": "3ef8819f",
   "metadata": {
    "slideshow": {
     "slide_type": "subslide"
    }
   },
   "source": [
    "- $3^2 = 9$ arrangements."
   ]
  },
  {
   "cell_type": "markdown",
   "id": "fae2e58f",
   "metadata": {
    "slideshow": {
     "slide_type": "subslide"
    }
   },
   "source": [
    "\n",
    "<table><tr><td><img src=\"Images/big_bird.png\" width=\"100\"/></td>\n",
    "<td><img src=\"Images/snuffy.jpg\" width=\"200\"/></td>\n",
    "<td><img src=\"Images/the_count.jpg\" width=\"200\"/></td></tr></table><br>\n",
    "\n",
    "Put them in the bins. Sample with replacement!\n",
    "<table><tr><td><img src=\"Images/cage.jpg\" width=\"200\"/></td><td><img src=\"Images/cage.jpg\" width=\"200\"/></td><td><img src=\"Images/cage.jpg\" width=\"200\"/></td><td><img src=\"Images/cage.jpg\" width=\"200\"/></td></tr></table>"
   ]
  },
  {
   "cell_type": "markdown",
   "id": "c0b5fe50",
   "metadata": {
    "slideshow": {
     "slide_type": "subslide"
    }
   },
   "source": [
    "- $3^4 = 81$ arrangements."
   ]
  },
  {
   "cell_type": "markdown",
   "id": "077a0e2a",
   "metadata": {
    "slideshow": {
     "slide_type": "subslide"
    }
   },
   "source": [
    "Generally:\n",
    "\n",
    "Total arrangements (sampling with replacement)\n",
    "\n",
    "$$ P =  n^r $$\n",
    "\n",
    "- r = number of bins/selections \n",
    "- n = number of items in collection"
   ]
  },
  {
   "cell_type": "markdown",
   "id": "95d86278",
   "metadata": {
    "slideshow": {
     "slide_type": "slide"
    }
   },
   "source": [
    "**Python: Sampling with/without replacement**\n",
    "\n",
    "Take a simple list:\n",
    "- Compare sampling with and without replacement side-by-side\n",
    "- itertools.product()\n"
   ]
  },
  {
   "cell_type": "code",
   "execution_count": 63,
   "id": "b747660d",
   "metadata": {
    "cell_style": "split",
    "slideshow": {
     "slide_type": "fragment"
    }
   },
   "outputs": [
    {
     "data": {
      "text/plain": [
       "[(1, 2), (1, 3), (2, 1), (2, 3), (3, 1), (3, 2)]"
      ]
     },
     "execution_count": 63,
     "metadata": {},
     "output_type": "execute_result"
    }
   ],
   "source": [
    "li_small = [1,2,3]\n",
    "list(itertools.permutations(li_small, 2))"
   ]
  },
  {
   "cell_type": "code",
   "execution_count": 109,
   "id": "eee06e14",
   "metadata": {
    "cell_style": "split",
    "slideshow": {
     "slide_type": "fragment"
    }
   },
   "outputs": [
    {
     "data": {
      "text/plain": [
       "[(1, 1), (1, 2), (1, 3), (2, 1), (2, 2), (2, 3), (3, 1), (3, 2), (3, 3)]"
      ]
     },
     "execution_count": 109,
     "metadata": {},
     "output_type": "execute_result"
    }
   ],
   "source": [
    "li_small = [1,2,3]\n",
    "list(itertools.product(li_small, repeat=2))"
   ]
  },
  {
   "cell_type": "markdown",
   "id": "29464a42",
   "metadata": {
    "slideshow": {
     "slide_type": "slide"
    }
   },
   "source": [
    "- Random sampling: numpy.random.choice \n",
    "    - replacement = True"
   ]
  },
  {
   "cell_type": "code",
   "execution_count": 110,
   "id": "cd21afcb",
   "metadata": {
    "cell_style": "center",
    "slideshow": {
     "slide_type": "fragment"
    }
   },
   "outputs": [
    {
     "data": {
      "text/plain": [
       "array([2, 1, 3])"
      ]
     },
     "execution_count": 110,
     "metadata": {},
     "output_type": "execute_result"
    }
   ],
   "source": [
    "choice(li_small, size = num_buckets, replace = True)"
   ]
  },
  {
   "cell_type": "markdown",
   "id": "8d55a263",
   "metadata": {
    "cell_style": "split"
   },
   "source": [
    "#### Sampling with replacement:\n",
    "- So far order mattered.\n",
    "- What if we want combinations instead?\n",
    "\n",
    "Construction for counting is a bit tricky here."
   ]
  },
  {
   "cell_type": "code",
   "execution_count": null,
   "id": "ae1a3102",
   "metadata": {
    "cell_style": "split"
   },
   "outputs": [],
   "source": [
    "Con"
   ]
  }
 ],
 "metadata": {
  "celltoolbar": "Slideshow",
  "kernelspec": {
   "display_name": "Python 3 (ipykernel)",
   "language": "python",
   "name": "python3"
  },
  "language_info": {
   "codemirror_mode": {
    "name": "ipython",
    "version": 3
   },
   "file_extension": ".py",
   "mimetype": "text/x-python",
   "name": "python",
   "nbconvert_exporter": "python",
   "pygments_lexer": "ipython3",
   "version": "3.9.7"
  }
 },
 "nbformat": 4,
 "nbformat_minor": 5
}
