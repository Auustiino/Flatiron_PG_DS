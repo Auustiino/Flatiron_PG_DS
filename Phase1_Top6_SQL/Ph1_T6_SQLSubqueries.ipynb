{
 "cells": [
  {
   "cell_type": "markdown",
   "id": "b1b58d2e",
   "metadata": {
    "cell_style": "center",
    "slideshow": {
     "slide_type": "slide"
    }
   },
   "source": [
    "<div style=\"color:white;\n",
    "           display:fill;\n",
    "           border-radius:5px;\n",
    "           background-color:#5642C5;\n",
    "           font-size:200%;\n",
    "           font-family:Arial;letter-spacing:0.5px\">\n",
    "\n",
    "<p width = 20%, style=\"padding: 10px;\n",
    "              color:white;\">\n",
    "SQL: Subqueries\n",
    "              \n",
    "</p>\n",
    "</div>\n",
    "\n",
    "Data Science Cohort Live NYC Feb 2022\n",
    "<p>Phase 1: Topic 6</p>\n",
    "<br>\n",
    "<br>\n",
    "\n",
    "<div align = \"right\">\n",
    "<img src=\"Images/flatiron-school-logo.png\" align = \"right\" width=\"200\"/>\n",
    "</div>\n",
    "    \n",
    "   "
   ]
  },
  {
   "cell_type": "markdown",
   "id": "7a9d7722",
   "metadata": {
    "cell_style": "split"
   },
   "source": [
    "Remember: \n",
    "\n",
    "SELECT queries return a new table."
   ]
  },
  {
   "cell_type": "markdown",
   "id": "b7caf37f",
   "metadata": {
    "cell_style": "split"
   },
   "source": [
    "Sometimes:\n",
    "\n",
    "- Query a table.\n",
    "- Filter/select/... on that query\n",
    "- Return result of querying on the first query.\n",
    "\n",
    "First query is a **subquery**."
   ]
  },
  {
   "cell_type": "markdown",
   "id": "f073749c",
   "metadata": {},
   "source": [
    "Let's get into it with our handy dandy flights database!"
   ]
  },
  {
   "cell_type": "code",
   "execution_count": 3,
   "id": "d894b5b1",
   "metadata": {},
   "outputs": [],
   "source": [
    "import sqlite3\n",
    "import numpy as np\n",
    "import pandas as pd\n",
    "\n",
    "# connect to flights database\n",
    "con = sqlite3.connect('data/flights.db')"
   ]
  },
  {
   "cell_type": "markdown",
   "id": "1812da97",
   "metadata": {},
   "source": [
    "Example of a query containing a subquery:"
   ]
  },
  {
   "cell_type": "code",
   "execution_count": 4,
   "id": "61cfd37e",
   "metadata": {},
   "outputs": [
    {
     "data": {
      "text/html": [
       "<div>\n",
       "<style scoped>\n",
       "    .dataframe tbody tr th:only-of-type {\n",
       "        vertical-align: middle;\n",
       "    }\n",
       "\n",
       "    .dataframe tbody tr th {\n",
       "        vertical-align: top;\n",
       "    }\n",
       "\n",
       "    .dataframe thead th {\n",
       "        text-align: right;\n",
       "    }\n",
       "</style>\n",
       "<table border=\"1\" class=\"dataframe\">\n",
       "  <thead>\n",
       "    <tr style=\"text-align: right;\">\n",
       "      <th></th>\n",
       "      <th>name</th>\n",
       "      <th>city</th>\n",
       "      <th>country</th>\n",
       "      <th>altitude</th>\n",
       "    </tr>\n",
       "  </thead>\n",
       "  <tbody>\n",
       "    <tr>\n",
       "      <th>0</th>\n",
       "      <td>Goroka</td>\n",
       "      <td>Goroka</td>\n",
       "      <td>Papua New Guinea</td>\n",
       "      <td>5282.0</td>\n",
       "    </tr>\n",
       "    <tr>\n",
       "      <th>1</th>\n",
       "      <td>Madang</td>\n",
       "      <td>Madang</td>\n",
       "      <td>Papua New Guinea</td>\n",
       "      <td>20.0</td>\n",
       "    </tr>\n",
       "    <tr>\n",
       "      <th>2</th>\n",
       "      <td>Mount Hagen</td>\n",
       "      <td>Mount Hagen</td>\n",
       "      <td>Papua New Guinea</td>\n",
       "      <td>5388.0</td>\n",
       "    </tr>\n",
       "    <tr>\n",
       "      <th>3</th>\n",
       "      <td>Nadzab</td>\n",
       "      <td>Nadzab</td>\n",
       "      <td>Papua New Guinea</td>\n",
       "      <td>239.0</td>\n",
       "    </tr>\n",
       "    <tr>\n",
       "      <th>4</th>\n",
       "      <td>Port Moresby Jacksons Intl</td>\n",
       "      <td>Port Moresby</td>\n",
       "      <td>Papua New Guinea</td>\n",
       "      <td>146.0</td>\n",
       "    </tr>\n",
       "    <tr>\n",
       "      <th>...</th>\n",
       "      <td>...</td>\n",
       "      <td>...</td>\n",
       "      <td>...</td>\n",
       "      <td>...</td>\n",
       "    </tr>\n",
       "    <tr>\n",
       "      <th>7206</th>\n",
       "      <td>Bus Stop</td>\n",
       "      <td>Hell-Bourg</td>\n",
       "      <td>Reunion</td>\n",
       "      <td>3000.0</td>\n",
       "    </tr>\n",
       "    <tr>\n",
       "      <th>7207</th>\n",
       "      <td>Bus Stop</td>\n",
       "      <td>Salazie</td>\n",
       "      <td>Reunion</td>\n",
       "      <td>3000.0</td>\n",
       "    </tr>\n",
       "    <tr>\n",
       "      <th>7208</th>\n",
       "      <td>Prominent Hill</td>\n",
       "      <td>Prominent Hill</td>\n",
       "      <td>Australia</td>\n",
       "      <td>734.0</td>\n",
       "    </tr>\n",
       "    <tr>\n",
       "      <th>7209</th>\n",
       "      <td>Chatsworth Station</td>\n",
       "      <td>Chatsworth</td>\n",
       "      <td>United States</td>\n",
       "      <td>978.0</td>\n",
       "    </tr>\n",
       "    <tr>\n",
       "      <th>7210</th>\n",
       "      <td>Port McNeill Airport</td>\n",
       "      <td>Port McNeill</td>\n",
       "      <td>Canada</td>\n",
       "      <td>225.0</td>\n",
       "    </tr>\n",
       "  </tbody>\n",
       "</table>\n",
       "<p>7211 rows × 4 columns</p>\n",
       "</div>"
      ],
      "text/plain": [
       "                            name            city           country  altitude\n",
       "0                         Goroka          Goroka  Papua New Guinea    5282.0\n",
       "1                         Madang          Madang  Papua New Guinea      20.0\n",
       "2                    Mount Hagen     Mount Hagen  Papua New Guinea    5388.0\n",
       "3                         Nadzab          Nadzab  Papua New Guinea     239.0\n",
       "4     Port Moresby Jacksons Intl    Port Moresby  Papua New Guinea     146.0\n",
       "...                          ...             ...               ...       ...\n",
       "7206                    Bus Stop      Hell-Bourg           Reunion    3000.0\n",
       "7207                    Bus Stop         Salazie           Reunion    3000.0\n",
       "7208              Prominent Hill  Prominent Hill         Australia     734.0\n",
       "7209          Chatsworth Station      Chatsworth     United States     978.0\n",
       "7210        Port McNeill Airport    Port McNeill            Canada     225.0\n",
       "\n",
       "[7211 rows x 4 columns]"
      ]
     },
     "execution_count": 4,
     "metadata": {},
     "output_type": "execute_result"
    }
   ],
   "source": [
    "pd.read_sql(\"\"\"\n",
    "\n",
    "SELECT *\n",
    "\n",
    "FROM \n",
    "\n",
    "(SELECT name, \n",
    "     city,\n",
    "     country,\n",
    "     CAST(altitude as float) AS altitude\n",
    " \n",
    " FROM airports\n",
    " WHERE altitude > 10000) AS high_alt_airp\n",
    "\n",
    "\n",
    "\"\"\", con)"
   ]
  },
  {
   "cell_type": "code",
   "execution_count": null,
   "id": "519f6f17",
   "metadata": {},
   "outputs": [],
   "source": [
    "\n"
   ]
  }
 ],
 "metadata": {
  "kernelspec": {
   "display_name": "Python 3 (ipykernel)",
   "language": "python",
   "name": "python3"
  },
  "language_info": {
   "codemirror_mode": {
    "name": "ipython",
    "version": 3
   },
   "file_extension": ".py",
   "mimetype": "text/x-python",
   "name": "python",
   "nbconvert_exporter": "python",
   "pygments_lexer": "ipython3",
   "version": "3.9.7"
  }
 },
 "nbformat": 4,
 "nbformat_minor": 5
}
