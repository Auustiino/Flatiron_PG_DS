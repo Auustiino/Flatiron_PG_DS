{
 "cells": [
  {
   "cell_type": "markdown",
   "id": "e2e7800a",
   "metadata": {
    "cell_style": "center",
    "slideshow": {
     "slide_type": "slide"
    }
   },
   "source": [
    "<div style=\"color:white;\n",
    "           display:fill;\n",
    "           border-radius:5px;\n",
    "           background-color:#5642C5;\n",
    "           font-size:200%;\n",
    "           font-family:Arial;letter-spacing:0.5px\">\n",
    "\n",
    "<p width = 20%, style=\"padding: 10px;\n",
    "              color:white;\">\n",
    "Base Python: Pickling\n",
    "              \n",
    "</p>\n",
    "</div>\n",
    "\n",
    "Data Science Cohort Live NYC Feb 2022\n",
    "<p>Phase 1: Topic 3</p>\n",
    "<br>\n",
    "<br>\n",
    "\n",
    "<div align = \"right\">\n",
    "<img src=\"Images/flatiron-school-logo.png\" align = \"right\" width=\"200\"/>\n",
    "</div>\n",
    "    \n",
    "    "
   ]
  },
  {
   "cell_type": "markdown",
   "id": "af4ba17d",
   "metadata": {
    "cell_style": "split",
    "slideshow": {
     "slide_type": "slide"
    }
   },
   "source": [
    "#### Pickling\n",
    "Save Python objects for later use:\n",
    "- Files/images.\n",
    "- Instances of class objects with saved state:\n",
    "    - Trained machine learning models.\n",
    "    - Data and ML pipelines."
   ]
  },
  {
   "cell_type": "markdown",
   "id": "4533188c",
   "metadata": {
    "cell_style": "split",
    "slideshow": {
     "slide_type": "fragment"
    }
   },
   "source": [
    "#### What it does:\n",
    "\n",
    "- Transform and save object into binary file.\n",
    "- Not human readable.\n",
    "- Pickled file can be loaded into Python: \n",
    "    - Loads object\n",
    "    - Has saved attributes ready to go."
   ]
  },
  {
   "cell_type": "markdown",
   "id": "e8e483e8",
   "metadata": {
    "slideshow": {
     "slide_type": "slide"
    }
   },
   "source": [
    "#### DANGER: Only load pickled files from trusted sources. Can have executable code!"
   ]
  },
  {
   "cell_type": "markdown",
   "id": "098acf1a",
   "metadata": {
    "slideshow": {
     "slide_type": "slide"
    }
   },
   "source": [
    "You'll be using this later in the course:\n",
    "- to save your own models.\n",
    "- load/use them in other parts of a project.\n",
    "\n",
    "Let's see some simple examples:"
   ]
  },
  {
   "cell_type": "markdown",
   "id": "a1b591de",
   "metadata": {
    "slideshow": {
     "slide_type": "slide"
    }
   },
   "source": [
    "#### Pickling an object"
   ]
  },
  {
   "cell_type": "code",
   "execution_count": 8,
   "id": "63d183c8",
   "metadata": {
    "slideshow": {
     "slide_type": "fragment"
    }
   },
   "outputs": [],
   "source": [
    "# necessary to pickle files\n",
    "import pickle\n",
    "# let's load a csv file\n",
    "import csv"
   ]
  },
  {
   "cell_type": "markdown",
   "id": "9495427e",
   "metadata": {
    "slideshow": {
     "slide_type": "slide"
    }
   },
   "source": [
    "Serializing an object via pickling:\n",
    "- Saving object in binary file\n",
    "- pickle.dump(object, open(filename, \"wb\") )\n",
    "- \"wb\" = write binary"
   ]
  },
  {
   "cell_type": "code",
   "execution_count": 17,
   "id": "fa824279",
   "metadata": {
    "slideshow": {
     "slide_type": "fragment"
    }
   },
   "outputs": [],
   "source": [
    "with open('Data/track_times_header.csv') as f:\n",
    "    colnames = next(f).strip().split(\",\")\n",
    "    csv_reader = csv.DictReader(f, fieldnames = colnames,  quoting=csv.QUOTE_NONNUMERIC)\n",
    "    data = list(csv_reader)\n",
    "    #this is the pickling step\n",
    "    pickle.dump(data, open( \"Data/data_save.pkl\", \"wb\" ) )"
   ]
  },
  {
   "cell_type": "markdown",
   "id": "7e4df6fd",
   "metadata": {
    "slideshow": {
     "slide_type": "slide"
    }
   },
   "source": [
    "#### Loading pickled object:\n",
    "- pickle.load(object, open(filename, \"rb\") )\n",
    "- \"rb\" = read binary"
   ]
  },
  {
   "cell_type": "code",
   "execution_count": 16,
   "id": "4d2bad84",
   "metadata": {
    "slideshow": {
     "slide_type": "fragment"
    }
   },
   "outputs": [
    {
     "data": {
      "text/plain": [
       "[{'Meet 1': 13.1, 'Meet 2': 13.59, 'Meet 3': 13.44},\n",
       " {'Meet 1': 13.93, 'Meet 2': 13.85, 'Meet 3': 13.47},\n",
       " {'Meet 1': 14.12, 'Meet 2': 14.41, 'Meet 3': 13.89},\n",
       " {'Meet 1': 14.42, 'Meet 2': 13.55, 'Meet 3': 13.43}]"
      ]
     },
     "execution_count": 16,
     "metadata": {},
     "output_type": "execute_result"
    }
   ],
   "source": [
    "#### Load pickled object:\n",
    "loaded_data = pickle.load(open('Data/data_save.pkl', 'rb'))\n",
    "loaded_data"
   ]
  },
  {
   "cell_type": "markdown",
   "id": "705ad70d",
   "metadata": {
    "slideshow": {
     "slide_type": "slide"
    }
   },
   "source": [
    "The loaded pickled file is a Python object: \n",
    "- A dict with our keys and values in the right type format.\n",
    "\n",
    "You'll really see the use of pickling later in the course."
   ]
  }
 ],
 "metadata": {
  "celltoolbar": "Slideshow",
  "kernelspec": {
   "display_name": "Python 3 (ipykernel)",
   "language": "python",
   "name": "python3"
  },
  "language_info": {
   "codemirror_mode": {
    "name": "ipython",
    "version": 3
   },
   "file_extension": ".py",
   "mimetype": "text/x-python",
   "name": "python",
   "nbconvert_exporter": "python",
   "pygments_lexer": "ipython3",
   "version": "3.9.7"
  }
 },
 "nbformat": 4,
 "nbformat_minor": 5
}
