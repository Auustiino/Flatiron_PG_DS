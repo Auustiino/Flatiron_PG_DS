{
 "cells": [
  {
   "cell_type": "code",
   "execution_count": 29,
   "metadata": {},
   "outputs": [],
   "source": [
    "import numpy as np\n",
    "import scipy as sp\n",
    "import sys\n",
    "import random\n",
    "import functools\n",
    "\n",
    "\n",
    "import matplotlib.pyplot as plt\n",
    "\n",
    "from scipy.stats import multivariate_normal\n",
    "\n",
    "from sklearn.datasets import make_blobs\n",
    "from sklearn import preprocessing"
   ]
  },
  {
   "cell_type": "code",
   "execution_count": 35,
   "metadata": {},
   "outputs": [],
   "source": [
    "X_raw = make_blobs(n_samples=2000, n_features=2, centers = [[-5,-5], [-1,2], [7,4], [5, -5]], random_state=0)[0]\n",
    "X = preprocessing.scale(X_raw)"
   ]
  },
  {
   "cell_type": "code",
   "execution_count": 32,
   "metadata": {},
   "outputs": [],
   "source": [
    "#-------------------------------------------------------------------------------------------------------------------------------------\n",
    "#initialize means\n",
    "def initialize_centroids(X, cluster_num):\n",
    "    minmaxranges = []\n",
    "    for col in X.T:\n",
    "        minmaxcolrange = [np.min(col), np.max(col)]\n",
    "        minmaxranges.append(minmaxcolrange)\n",
    "    \n",
    "    #this generates a vector within the min/max bounds of each dimension in the dataset\n",
    "    initcentroids = np.array([ np.array([random.uniform(componentrange[0], componentrange[1]) for componentrange in minmaxranges]) for i in range(cluster_num) ])\n",
    "    \n",
    "    return initcentroids\n",
    "#--------------------------------------------------------------------------------------------------------------------------------------\n",
    "#cluster_posterior is our q-distribution over which we take the expectation of the joint distribution on x and its cluster assignment\n",
    "\n",
    "def cluster_posterior(x, pi, clust_means, clust_covars):\n",
    "    \n",
    "    clusternums = len(pi)\n",
    "    norm = sum([ pi[j] * multivariate_normal.pdf(x, mean = clust_means[j], cov = clust_covars[j] ) for j in range(clusternums)])\n",
    "    \n",
    "    if norm == 0.0: #avoids a singularity condition when denominator is small\n",
    "        return (1/clusternums)*np.ones(clusternums)\n",
    "    else:\n",
    "        posterior = np.array([(1/norm) * pi[k] * multivariate_normal.pdf(x, mean = clust_means[k], cov = clust_covars[k] ) for k in range(clusternums) ])\n",
    "        \n",
    "    return posterior\n",
    "\n",
    "\n",
    "#---------------------------------------------------------------------------------------------------------------------------------------\n",
    "# calculate new parameters for gaussian mixture\n",
    "def MStep(X, qdist, clustermeans):\n",
    "    #qdist is N by clustnum weight matrix\n",
    "    \n",
    "    N = np.shape(X)[0] # total number of observations\n",
    "    cluster_num = np.shape(qdist)[1]\n",
    "    \n",
    "    n_distrib = np.array( [sum(qdist[:, k]) for k in range(cluster_num) ] ) # weighted number of observations in each cluster\n",
    "    Pi = (1/N)*n_distrib #new Pi distribution\n",
    "    #print(Pi)\n",
    "    #generates new centroids -- expression takes n-length weight for being in kth cluster for each observation and dots it with data matrix\n",
    "    #generates weighted sum of observations for kth cluster -- does this for all clusters and spits out clustnum by feature_dim centroid matrix\n",
    "    \n",
    "    centroids = np.array([ (1/n_distrib[k])*np.dot(qdist[:,k], X) for k in range(cluster_num) ]) \n",
    "    \n",
    "    # use new centroids to create updated covariance matrices\n",
    "    sigmalist = []\n",
    "    for k in range(cluster_num):\n",
    "            sigmak = (1/n_distrib[k]) * sum( [ qdist[i, k]*np.outer( (X[i] - centroids[k]), (X[i] - centroids[k])) for i in range(N)])\n",
    "            sigmalist.append(sigmak)\n",
    "    \n",
    "    sigma = np.array(sigmalist)\n",
    "    \n",
    "    \n",
    "    return Pi, centroids, sigma\n",
    "\n",
    "\n",
    "#---------------------------------------------------------------------------------------------------------------------------------------\n",
    "#define EM-GMM\n",
    "\n",
    "def EM_GMM(X, clusternum, iternums):\n",
    "    \n",
    "    # initialization\n",
    "    n = np.shape(X)[0] # number of observations\n",
    "    d = np.shape(X)[1] # feature dimensionality\n",
    "    \n",
    "    Pi = (1/clusternum) * np.ones(clusternum) \n",
    "    clustmeans = initialize_centroids(X, clusternum ) #initialize means\n",
    "    \n",
    "    data_avg = np.average(X, axis = 0) \n",
    "    centered_data = X - data_avg\n",
    "    Xcovar = (1/n)*np.dot( centered_data.T, centered_data)\n",
    "    \n",
    "    sigmas = np.array([Xcovar for k in range(clusternum)]) # numpy array of covariance matrices \n",
    "    #sigmas = np.array([.2*np.identity(d) for k in range(clusternum)]) # numpy array of covariance matrices \n",
    "    \n",
    "    for i in range(iternums):\n",
    "        \n",
    "        # evaluate q distribution at current step\n",
    "        \n",
    "        parfunc = functools.partial(cluster_posterior, pi = Pi, clust_means = clustmeans, clust_covars = sigmas)\n",
    "        qdist = np.array(list(map(parfunc, X))) # n x clustnum numpy array\n",
    "        Pi, clustmeans, sigmas = MStep(X, qdist, clustmeans)\n",
    "        \n",
    "        \n",
    "        filename = \"pi-\" + str(i+1) + \".csv\" \n",
    "        np.savetxt(filename, Pi, delimiter=\",\") \n",
    "        filename = \"mu-\" + str(i+1) + \".csv\"\n",
    "        np.savetxt(filename, clustmeans, delimiter=\",\")\n",
    "        \n",
    "        for j in range(clusternum): #k is the number of clusters \n",
    "            filename = \"Sigma-\" + str(j+1) + \"-\" + str(i+1) + \".csv\" #this must be done 5 times (or the number of clusters) for each iteration\n",
    "            np.savetxt(filename, sigmas[j], delimiter=\",\")\n",
    "                \n",
    "    return clustmeans"
   ]
  },
  {
   "cell_type": "code",
   "execution_count": 36,
   "metadata": {},
   "outputs": [],
   "source": [
    "q = EM_GMM(X, 4, 20)"
   ]
  },
  {
   "cell_type": "code",
   "execution_count": 37,
   "metadata": {},
   "outputs": [
    {
     "data": {
      "text/plain": [
       "<matplotlib.collections.PathCollection at 0x2242e990d30>"
      ]
     },
     "execution_count": 37,
     "metadata": {},
     "output_type": "execute_result"
    },
    {
     "data": {
      "image/png": "[encoded data removed]",
      "text/plain": [
       "<Figure size 432x288 with 1 Axes>"
      ]
     },
     "metadata": {
      "needs_background": "light"
     },
     "output_type": "display_data"
    }
   ],
   "source": [
    "plt.scatter(X[:,0], X[:,1])\n",
    "plt.scatter(q[:,0], q[:,1])"
   ]
  },
  {
   "cell_type": "code",
   "execution_count": null,
   "metadata": {},
   "outputs": [],
   "source": []
  }
 ],
 "metadata": {
  "kernelspec": {
   "display_name": "ColumbiaMLEDX",
   "language": "python",
   "name": "columbiamledx"
  },
  "language_info": {
   "codemirror_mode": {
    "name": "ipython",
    "version": 3
   },
   "file_extension": ".py",
   "mimetype": "text/x-python",
   "name": "python",
   "nbconvert_exporter": "python",
   "pygments_lexer": "ipython3",
   "version": "3.8.5"
  }
 },
 "nbformat": 4,
 "nbformat_minor": 4
}
