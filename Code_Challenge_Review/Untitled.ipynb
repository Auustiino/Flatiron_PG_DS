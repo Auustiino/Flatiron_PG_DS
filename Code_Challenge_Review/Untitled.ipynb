{
 "cells": [
  {
   "cell_type": "markdown",
   "id": "83e772db",
   "metadata": {},
   "source": [
    "#### Code Challenge Phase 2 Review"
   ]
  },
  {
   "cell_type": "markdown",
   "id": "7f379139",
   "metadata": {},
   "source": [
    " Q1: Yael's Tasty Treats is an Israeli eatery in NYC trying to offer its clientele traditional Israeli comfort dishes in a laidback environment. They have a few steady offerings on the menu. A fan favorite is Sabich (a stuffed pita with eggplant, eggs, tahini, salad and some mango sauce). \n",
    "\n",
    "Data over the past year of sales of dishes of Sabich per day are well modeled by a normal distribution:\n",
    "\n",
    "The mean is 80 plates per day of Sabich sold with a standard deviation of 32 plates."
   ]
  },
  {
   "cell_type": "markdown",
   "id": "0901a1fd",
   "metadata": {},
   "source": [
    "Q: What is the probability that on any given day that Yael's sells less than 45 plates?"
   ]
  },
  {
   "cell_type": "code",
   "execution_count": null,
   "id": "4a11e19b",
   "metadata": {},
   "outputs": [],
   "source": []
  },
  {
   "cell_type": "markdown",
   "id": "1da9053f",
   "metadata": {},
   "source": [
    "Q2: A marine biology survey vessel is estimating the length of adult male bottle nose dolphins in a region approximately 300 miles west of Point Reyes, CA in the Pacific. They measure 90 dolphins and get a mean of 2.6 m with a standard deviation of 0.4 m. \n",
    "\n",
    "Calculate the 95% confidence interval of the mean."
   ]
  },
  {
   "cell_type": "code",
   "execution_count": null,
   "id": "8ca2f9dd",
   "metadata": {},
   "outputs": [],
   "source": []
  }
 ],
 "metadata": {
  "kernelspec": {
   "display_name": "Python 3 (ipykernel)",
   "language": "python",
   "name": "python3"
  },
  "language_info": {
   "codemirror_mode": {
    "name": "ipython",
    "version": 3
   },
   "file_extension": ".py",
   "mimetype": "text/x-python",
   "name": "python",
   "nbconvert_exporter": "python",
   "pygments_lexer": "ipython3",
   "version": "3.9.7"
  }
 },
 "nbformat": 4,
 "nbformat_minor": 5
}
