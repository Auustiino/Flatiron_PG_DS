{
 "cells": [
  {
   "cell_type": "markdown",
   "id": "56114cc7",
   "metadata": {},
   "source": [
    "Let's start with two datasets that are available for us in our local file system:\n",
    "- Titanic dataset\n",
    "- Cereals dataset\n",
    "\n",
    "Let's import both of them using pandas into separate dataframes. Numpy might also be useful for us."
   ]
  },
  {
   "cell_type": "code",
   "execution_count": null,
   "id": "4730fb42",
   "metadata": {},
   "outputs": [],
   "source": []
  }
 ],
 "metadata": {
  "kernelspec": {
   "display_name": "Python 3 (ipykernel)",
   "language": "python",
   "name": "python3"
  },
  "language_info": {
   "codemirror_mode": {
    "name": "ipython",
    "version": 3
   },
   "file_extension": ".py",
   "mimetype": "text/x-python",
   "name": "python",
   "nbconvert_exporter": "python",
   "pygments_lexer": "ipython3",
   "version": "3.9.7"
  }
 },
 "nbformat": 4,
 "nbformat_minor": 5
}
