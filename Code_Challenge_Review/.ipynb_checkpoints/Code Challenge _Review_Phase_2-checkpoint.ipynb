{
 "cells": [
  {
   "cell_type": "markdown",
   "id": "83e772db",
   "metadata": {},
   "source": [
    "#### Code Challenge Phase 2 Mock/Review"
   ]
  },
  {
   "cell_type": "markdown",
   "id": "7f379139",
   "metadata": {},
   "source": [
    "Yael's Tasty Treats is an Israeli eatery in NYC trying to offer its clientele traditional Israeli comfort dishes in a laidback environment. They have a few steady offerings on the menu. A fan favorite is Sabich (a stuffed pita with eggplant, eggs, tahini, salad and some spicy mango sauce). \n",
    "\n",
    "Data over the past year of sales of dishes of Sabich per day are well modeled by a normal distribution:\n",
    "\n",
    "The mean is 80 plates per day of Sabich sold with a standard deviation of 22 plates."
   ]
  },
  {
   "cell_type": "markdown",
   "id": "0901a1fd",
   "metadata": {},
   "source": [
    "Q1: What is the probability that on any given day that Yael's sells less than 45 plates?"
   ]
  },
  {
   "cell_type": "code",
   "execution_count": null,
   "id": "4a11e19b",
   "metadata": {},
   "outputs": [],
   "source": []
  },
  {
   "cell_type": "markdown",
   "id": "b710e68e",
   "metadata": {},
   "source": [
    "Q2a: What is the Z-score at 32 plates of Sabich? **Note: I'm NOT talking about the Z-score of sample means**"
   ]
  },
  {
   "cell_type": "code",
   "execution_count": null,
   "id": "a0622d22",
   "metadata": {},
   "outputs": [],
   "source": []
  },
  {
   "cell_type": "markdown",
   "id": "b67f9e1b",
   "metadata": {},
   "source": [
    "Q2b: I decide to look at the counts of orders of Sabich over just 60 days. Computing the mean of the sample I calculate it to be 74. Calculate the Z-statistic of the sample mean based on the distribution of sample means."
   ]
  },
  {
   "cell_type": "code",
   "execution_count": null,
   "id": "5935544b",
   "metadata": {},
   "outputs": [],
   "source": []
  },
  {
   "cell_type": "markdown",
   "id": "1da9053f",
   "metadata": {},
   "source": [
    "Q3: A marine biology survey vessel is estimating the length of adult male bottle nose dolphins in a region approximately 300 miles west of Point Reyes, CA in the Pacific. They measure 20 dolphins and get a mean of 2.6 m with a standard deviation of 0.3 m. \n",
    "\n",
    "Calculate the upper and lower bound of the 95% confidence interval for the mean."
   ]
  },
  {
   "cell_type": "code",
   "execution_count": null,
   "id": "8ca2f9dd",
   "metadata": {},
   "outputs": [],
   "source": []
  },
  {
   "cell_type": "markdown",
   "id": "898285d4",
   "metadata": {},
   "source": [
    "Q4: In words, what is the 95\\% confidence interval telling us?"
   ]
  },
  {
   "cell_type": "code",
   "execution_count": null,
   "id": "8de501e6",
   "metadata": {},
   "outputs": [],
   "source": []
  },
  {
   "cell_type": "markdown",
   "id": "e76fa639",
   "metadata": {},
   "source": [
    "Q5: Yael's also serves sakshouka (egg poached in a tomato and red pepper sauce) with a side of challah as a breakfast/lunch special. The dish had only been on the menu for 2 weeks or so when Rachel Ray runs a Food Network special on The Joy of Cooking Sakshouka For Sunday Brunch. Your marketing manager believes that the running of this special bumped up the number of daily orders from the first two weeks.\n",
    "\n",
    "You have the following samples for daily orders of sakshouka for the first two weeks and count the sakshouka dishes sold for the next two weeks after the Rachel Ray special."
   ]
  },
  {
   "cell_type": "code",
   "execution_count": 87,
   "id": "18175572",
   "metadata": {},
   "outputs": [],
   "source": [
    "orders_per_day_before = [27, 22, 29, 24, 30, 30, 23, 18, 20, 24, 26, 20, 25, 28]\n",
    "orders_per_day_after = [31, 27, 29, 22, 25, 33, 30, 26, 14, 22, 31, 30, 35, 24]"
   ]
  },
  {
   "cell_type": "markdown",
   "id": "3af1e349",
   "metadata": {},
   "source": [
    "Q5: You want to evaluate what the marketing manager has said given the available data. What hypothesis test might you use here? Justify your answer."
   ]
  },
  {
   "cell_type": "code",
   "execution_count": null,
   "id": "f6bebcac",
   "metadata": {},
   "outputs": [],
   "source": []
  },
  {
   "cell_type": "markdown",
   "id": "bd107363",
   "metadata": {},
   "source": [
    "Q6: State the null and the alternate hypotheses here."
   ]
  },
  {
   "cell_type": "code",
   "execution_count": null,
   "id": "fc9acc5e",
   "metadata": {},
   "outputs": [],
   "source": []
  },
  {
   "cell_type": "markdown",
   "id": "09fe9cec",
   "metadata": {},
   "source": [
    "Q7: At a significance level of 0.05, compute the p-values for the test you have chosen."
   ]
  },
  {
   "cell_type": "code",
   "execution_count": null,
   "id": "b23e2fbf",
   "metadata": {},
   "outputs": [],
   "source": [
    "# NOTE: on the code challenge the alternative = '...' option on the hypothesis tests wont be available to you\n",
    "# Flatiron illumidesk uses an older version of scipy"
   ]
  },
  {
   "cell_type": "markdown",
   "id": "55c0e0b7",
   "metadata": {},
   "source": [
    "Q8: At a significance level of 0.05, do you accept or reject the null?"
   ]
  },
  {
   "cell_type": "code",
   "execution_count": null,
   "id": "0b71113c",
   "metadata": {},
   "outputs": [],
   "source": []
  },
  {
   "cell_type": "markdown",
   "id": "dd24539d",
   "metadata": {},
   "source": [
    "Q9: Explain the difference between type I and type II errors. What quantity used in hypothesis testing does the rate of type I errors correspond to?"
   ]
  },
  {
   "cell_type": "code",
   "execution_count": null,
   "id": "d0b7e99e",
   "metadata": {},
   "outputs": [],
   "source": []
  },
  {
   "cell_type": "markdown",
   "id": "ee575721",
   "metadata": {},
   "source": [
    "We are trying to understand the factors affecting life expectancy in the WHO dataset. The WHO dataset has been loaded below for you. The "
   ]
  },
  {
   "cell_type": "code",
   "execution_count": 90,
   "id": "a26b8fdb",
   "metadata": {},
   "outputs": [],
   "source": [
    "import pandas as pd\n",
    "WHO_data = pd.read_csv('Data/WHO_life.csv')"
   ]
  },
  {
   "cell_type": "markdown",
   "id": "d8933fe8",
   "metadata": {},
   "source": [
    "Q10: Perform a simple linear regression of life expectancy on Schooling. Use Statsmodels."
   ]
  },
  {
   "cell_type": "code",
   "execution_count": null,
   "id": "3980f99e",
   "metadata": {},
   "outputs": [],
   "source": []
  },
  {
   "cell_type": "markdown",
   "id": "4c9ec406",
   "metadata": {},
   "source": [
    "Q11: Get the slope coefficient and bias. Also get me the $R^2$ value for this regression. Is the value good or bad?"
   ]
  },
  {
   "cell_type": "code",
   "execution_count": null,
   "id": "7f191efe",
   "metadata": {},
   "outputs": [],
   "source": []
  },
  {
   "cell_type": "markdown",
   "id": "efd8d3bd",
   "metadata": {},
   "source": [
    "Q12: What is the $R^2$ value? What does it mean in terms of my data and estimation of life expectancy? Given the data I have, how might I improve this?"
   ]
  },
  {
   "cell_type": "code",
   "execution_count": null,
   "id": "ad4c6fc7",
   "metadata": {},
   "outputs": [],
   "source": []
  },
  {
   "cell_type": "markdown",
   "id": "4a5f067d",
   "metadata": {},
   "source": [
    "Q13: Make a scatter plot of the two relevant variables and plot the best fit line."
   ]
  },
  {
   "cell_type": "code",
   "execution_count": null,
   "id": "3d22f5d2",
   "metadata": {},
   "outputs": [],
   "source": []
  },
  {
   "cell_type": "markdown",
   "id": "2a7eaa57",
   "metadata": {},
   "source": [
    "Q14: Compute the regression of life expectancy based on population, schooling, and HIV/AIDs rate per capita in a country's population."
   ]
  },
  {
   "cell_type": "code",
   "execution_count": null,
   "id": "bbc4e2c4",
   "metadata": {},
   "outputs": [],
   "source": []
  },
  {
   "cell_type": "markdown",
   "id": "c97c37db",
   "metadata": {},
   "source": [
    "Q15: Print out the coefficients of regression. Get the $R^2$ value. "
   ]
  },
  {
   "cell_type": "code",
   "execution_count": null,
   "id": "85ece3c4",
   "metadata": {},
   "outputs": [],
   "source": []
  },
  {
   "cell_type": "markdown",
   "id": "702ad082",
   "metadata": {},
   "source": [
    "Q16: Print out the results summary. Use the report to figure out which of variables are not important if there are any. Which metric did you use to evaluate this? Explain yourself."
   ]
  },
  {
   "cell_type": "code",
   "execution_count": null,
   "id": "112e0625",
   "metadata": {},
   "outputs": [],
   "source": []
  },
  {
   "cell_type": "markdown",
   "id": "14613306",
   "metadata": {},
   "source": [
    "Q17: Is your modeling performing better or worse? Why?"
   ]
  },
  {
   "cell_type": "code",
   "execution_count": null,
   "id": "c29e1686",
   "metadata": {},
   "outputs": [],
   "source": []
  },
  {
   "cell_type": "markdown",
   "id": "c2df0a01",
   "metadata": {},
   "source": [
    "Q18: Explain what the adjusted $R^2$ is and how it is different than $R^2$. Just in words, no need for formulas."
   ]
  },
  {
   "cell_type": "code",
   "execution_count": null,
   "id": "c830a79b",
   "metadata": {},
   "outputs": [],
   "source": []
  },
  {
   "cell_type": "markdown",
   "id": "7f04cdc2",
   "metadata": {},
   "source": [
    "Q19: Bayes"
   ]
  },
  {
   "cell_type": "markdown",
   "id": "d16ed274",
   "metadata": {},
   "source": [
    "\n",
    "\n",
    "Suppose some rare disease affects 1 in 100,000 people. There is a test for it, though it is imperfect: 5% of the people who have the disease will test negative and 4% of the people who don't have the disease will test positive for it. You take the test and test positive. Before the test the probability that you had the disease was only 1 in 100,000. But now, with this new information of the positive test, how should you judge the probability that you have the disease?\n",
    "\n",
    "\n",
    "\n",
    "We can use Bayes's Theorem:\n",
    "\n",
    "<br>\n",
    "$$P(h | e) = \\frac{P(e | h)P(h)}{P(e)}$$\n",
    "\n",
    "\n",
    "What are $h$ and $e$ in this case?\n",
    "\n",
    "\n",
    "To calculate the denominator, we'll need to make use of the **Rule of Total Evidence**: <br/><br/>\n",
    "\n",
    "$$ P(e) = P(e | h_1)P(h_1) + ... + P(e | h_n)P(h_n) $$\n",
    "\n",
    "\n",
    "In our case, there are only two possibilities: Either I have the disease or I do not."
   ]
  },
  {
   "cell_type": "code",
   "execution_count": null,
   "id": "efd0a085",
   "metadata": {},
   "outputs": [],
   "source": []
  }
 ],
 "metadata": {
  "kernelspec": {
   "display_name": "Python 3 (ipykernel)",
   "language": "python",
   "name": "python3"
  },
  "language_info": {
   "codemirror_mode": {
    "name": "ipython",
    "version": 3
   },
   "file_extension": ".py",
   "mimetype": "text/x-python",
   "name": "python",
   "nbconvert_exporter": "python",
   "pygments_lexer": "ipython3",
   "version": "3.9.7"
  }
 },
 "nbformat": 4,
 "nbformat_minor": 5
}
