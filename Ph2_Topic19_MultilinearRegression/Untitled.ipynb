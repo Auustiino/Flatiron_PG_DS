{
 "cells": [
  {
   "cell_type": "markdown",
   "id": "cf847d47",
   "metadata": {
    "slideshow": {
     "slide_type": "slide"
    }
   },
   "source": [
    "<div style=\"color:white;\n",
    "           display:fill;\n",
    "           border-radius:5px;\n",
    "           background-color:#5642C5;\n",
    "           font-size:200%;\n",
    "           font-family:Arial;letter-spacing:0.5px\">\n",
    "\n",
    "<p width = 20%, style=\"padding: 10px;\n",
    "              color:white;\">\n",
    "Multilinear Regression\n",
    "              \n",
    "</p>\n",
    "</div>\n",
    "\n",
    "Data Science Cohort Live NYC Feb 2022\n",
    "<p>Phase 2: Topic 19</p>\n",
    "<br>\n",
    "<br>\n",
    "\n",
    "<div align = \"right\">\n",
    "<img src=\"Images/flatiron-school-logo.png\" align = \"right\" width=\"200\"/>\n",
    "</div>\n",
    "    \n",
    "    "
   ]
  },
  {
   "cell_type": "markdown",
   "id": "7487da9d",
   "metadata": {},
   "source": [
    "So far:\n",
    "\n",
    "- Performed regression on one variable.\n",
    "\n",
    "But many cases where we might expect more than one factor "
   ]
  },
  {
   "cell_type": "code",
   "execution_count": null,
   "id": "598fcce3",
   "metadata": {},
   "outputs": [],
   "source": []
  }
 ],
 "metadata": {
  "kernelspec": {
   "display_name": "DSbase",
   "language": "python",
   "name": "dsbase"
  }
 },
 "nbformat": 4,
 "nbformat_minor": 5
}
